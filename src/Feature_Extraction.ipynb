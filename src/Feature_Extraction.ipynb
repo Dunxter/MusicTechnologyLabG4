{
 "cells": [
  {
   "cell_type": "markdown",
   "id": "685a5499",
   "metadata": {},
   "source": [
    "# Instrument Classification in Carnatic Music (ICCM)\n",
    "Group 4 - Guillem Gauchia - Àlex Herrero - Gerard San Miguel - Roddie Mc Guinness"
   ]
  },
  {
   "cell_type": "markdown",
   "id": "premier-merchandise",
   "metadata": {
    "id": "premier-merchandise"
   },
   "source": [
    "# Feature Extraction"
   ]
  },
  {
   "cell_type": "markdown",
   "id": "pretty-award",
   "metadata": {
    "id": "pretty-award"
   },
   "source": [
    "In this notebook we will extract various audio features for a sample of audio. We will focus on the time domain features of:\n",
    "\n",
    "- Amplitude Envelope\n",
    "- Root-Mean-Squared Energy\n",
    "- Zero Crossing Rate\n",
    "\n",
    "And the frequency domain features of:\n",
    "\n",
    "- Band Energy Ratio\n",
    "- Spectral Centroid\n",
    "- Bandwidth\n",
    "- Mel Frequency Cepstral Coefficients\n",
    "\n",
    "Before beginning this notebook, you should have already create a dataset of audio samples from the Saraga Carnatic Dataset. If not, please review notebook **1. Dataset Creation**."
   ]
  },
  {
   "cell_type": "code",
   "execution_count": null,
   "id": "QUR7QQzH3f46",
   "metadata": {
    "colab": {
     "base_uri": "https://localhost:8080/"
    },
    "id": "QUR7QQzH3f46",
    "outputId": "3dbdd4fe-e57d-4f6c-9a76-190c15ded0f9"
   },
   "outputs": [
    {
     "name": "stdout",
     "output_type": "stream",
     "text": [
      "Cloning into 'iccm'...\n",
      "remote: Enumerating objects: 2252, done.\u001b[K\n",
      "remote: Counting objects: 100% (13/13), done.\u001b[K\n",
      "remote: Compressing objects: 100% (9/9), done.\u001b[K\n",
      "remote: Total 2252 (delta 8), reused 8 (delta 4), pack-reused 2239\u001b[K\n",
      "Receiving objects: 100% (2252/2252), 102.88 MiB | 25.37 MiB/s, done.\n",
      "Resolving deltas: 100% (15/15), done.\n"
     ]
    }
   ],
   "source": [
    "!git clone -b DATASET https://github.com/Dunxter/iccm.git"
   ]
  },
  {
   "cell_type": "markdown",
   "id": "wYTgwwfNbmd3",
   "metadata": {
    "id": "wYTgwwfNbmd3"
   },
   "source": [
    "Add the path to your .wav files"
   ]
  },
  {
   "cell_type": "code",
   "execution_count": null,
   "id": "V3xY2ZMj6AKT",
   "metadata": {
    "colab": {
     "base_uri": "https://localhost:8080/"
    },
    "id": "V3xY2ZMj6AKT",
    "outputId": "b656421a-9185-4587-c7db-461c5893f8af"
   },
   "outputs": [
    {
     "name": "stdout",
     "output_type": "stream",
     "text": [
      "Mounted at /content/drive\n"
     ]
    }
   ],
   "source": [
    "from google.colab import drive\n",
    "drive.mount('/content/drive')\n",
    "data_home = 'drive/Shareddrives/TTM - GROUP 4/chunk wav files' #add your path here"
   ]
  },
  {
   "cell_type": "markdown",
   "id": "terminal-leonard",
   "metadata": {
    "id": "terminal-leonard"
   },
   "source": [
    "## 2.1 Load Samples"
   ]
  },
  {
   "cell_type": "markdown",
   "id": "amazing-fraction",
   "metadata": {
    "id": "amazing-fraction"
   },
   "source": [
    "As part of **1. Dataset Creations** you should have created some loaders to load audio samples and associated metadata. Import these loaders and load one sample to experiment with."
   ]
  },
  {
   "cell_type": "code",
   "execution_count": null,
   "id": "xDJ5wRyKtW_t",
   "metadata": {
    "id": "xDJ5wRyKtW_t"
   },
   "outputs": [],
   "source": [
    "import os\n",
    "import pandas as pd\n",
    "import librosa\n",
    "import numpy as np\n",
    "import scipy\n",
    "from zipfile import ZipFile\n",
    "\n",
    "\n",
    "def load_sample(filepath):\n",
    "    \"\"\"\n",
    "    Load sample with index, <index>\n",
    "    \"\"\"\n",
    "    # Load the audio file using the index\n",
    "    # audio_path = f'{index}.wav'\n",
    "    audio, sr = librosa.load(filepath, sr=None)\n",
    "    return audio, sr\n",
    "\n",
    "\n",
    "def get_metadata(index):\n",
    "    \"\"\"\n",
    "    Get metadata for sample with index, <index>\n",
    "    \"\"\"\n",
    "    # Load the metadata CSV file\n",
    "    metadata = pd.read_csv('metadata.csv')\n",
    "\n",
    "    # Get the metadata for the specified index\n",
    "    sample_metadata = metadata.loc[metadata['index'] == index].squeeze()\n",
    "    return sample_metadata"
   ]
  },
  {
   "cell_type": "code",
   "execution_count": null,
   "id": "neural-reaction",
   "metadata": {
    "colab": {
     "base_uri": "https://localhost:8080/"
    },
    "id": "neural-reaction",
    "outputId": "1d27566b-d325-4b87-ae91-0dbed0fd83e7"
   },
   "outputs": [
    {
     "name": "stdout",
     "output_type": "stream",
     "text": [
      "drive  iccm  sample_data\n"
     ]
    }
   ],
   "source": [
    "!ls"
   ]
  },
  {
   "cell_type": "code",
   "execution_count": null,
   "id": "83c3QZvOLhD0",
   "metadata": {
    "id": "83c3QZvOLhD0"
   },
   "outputs": [],
   "source": [
    "directory = 'drive/MyDrive/p-4/Jupyter-lab Colab/+300.000 samples/samples.zip'\n",
    "file_paths = []\n",
    "with ZipFile(directory, 'r') as zip:\n",
    "    sample = zip.extractall()"
   ]
  },
  {
   "cell_type": "markdown",
   "id": "therapeutic-delhi",
   "metadata": {
    "id": "therapeutic-delhi"
   },
   "source": [
    "Are you able to listen to this audio and plot the waveform using `plot_waveform()` function from **1. Dataset Creation**?"
   ]
  },
  {
   "cell_type": "code",
   "execution_count": null,
   "id": "rough-morning",
   "metadata": {
    "id": "rough-morning"
   },
   "outputs": [],
   "source": [
    "# Listen to audio\n",
    "import librosa\n",
    "import matplotlib.pyplot as plt\n",
    "import soundfile as sf\n",
    "import IPython\n",
    "import IPython.display as ipd\n",
    "\n",
    "\n",
    "def plot_waveform(audio_array):\n",
    "    \"\"\"\n",
    "    Plot waveform for <audio_array> using matplotlib.pyplot\n",
    "    \"\"\"\n",
    "    plt.plot(audio_array)\n",
    "\n",
    "\n",
    "def play_audio(audio_array):\n",
    "    \"\"\"\n",
    "    Generate audio player for <audio_array> using Ipython library\n",
    "    \"\"\"\n",
    "    sf.write('aux_audio.wav', audio_array, 44100)\n",
    "    return ipd.Audio('aux_audio.wav')"
   ]
  },
  {
   "cell_type": "code",
   "execution_count": null,
   "id": "HO_ukzZL9oG1",
   "metadata": {
    "id": "HO_ukzZL9oG1"
   },
   "outputs": [],
   "source": [
    "#get the array from the audio\n",
    "audio_array, sr = librosa.load(sample, sr=44100)"
   ]
  },
  {
   "cell_type": "code",
   "execution_count": null,
   "id": "_YU0FxFf9fPY",
   "metadata": {
    "colab": {
     "base_uri": "https://localhost:8080/",
     "height": 76
    },
    "id": "_YU0FxFf9fPY",
    "outputId": "278aa915-d678-4b01-ed34-320571758997"
   },
   "outputs": [
    {
     "data": {
      "text/html": [
       "\n",
       "                <audio  controls=\"controls\" >\n",
       "                    <source src=\"data:audio/x-wav;base64,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\" type=\"audio/x-wav\" />\n",
       "                    Your browser does not support the audio element.\n",
       "                </audio>\n",
       "              "
      ],
      "text/plain": [
       "<IPython.lib.display.Audio object>"
      ]
     },
     "execution_count": 35,
     "metadata": {},
     "output_type": "execute_result"
    }
   ],
   "source": [
    "# Listen to audio\n",
    "play_audio(audio_array)"
   ]
  },
  {
   "cell_type": "code",
   "execution_count": null,
   "id": "traditional-estonia",
   "metadata": {
    "colab": {
     "base_uri": "https://localhost:8080/",
     "height": 430
    },
    "id": "traditional-estonia",
    "outputId": "4fa36573-a6eb-41a1-d134-12e09c276517"
   },
   "outputs": [
    {
     "data": {
      "image/png": "[encoded data removed]",
      "text/plain": [
       "<Figure size 640x480 with 1 Axes>"
      ]
     },
     "metadata": {},
     "output_type": "display_data"
    }
   ],
   "source": [
    "# plot waveform\n",
    "plot_waveform(audio_array)"
   ]
  },
  {
   "cell_type": "markdown",
   "id": "cardiovascular-drunk",
   "metadata": {
    "id": "cardiovascular-drunk"
   },
   "source": [
    "## 2.1 Time Domain Features"
   ]
  },
  {
   "cell_type": "markdown",
   "id": "strong-central",
   "metadata": {
    "id": "strong-central"
   },
   "source": [
    "Here we will extract the time domain features of:\n",
    "\n",
    "- Amplitude Envelope\n",
    "- Root-Mean-Squared Energy\n",
    "- Zero Crossing Rate\n",
    "\n",
    "We will work with the *time domain* representation of your audio (i.e. the amplitude values loaded by your loader)."
   ]
  },
  {
   "cell_type": "markdown",
   "id": "disabled-malaysia",
   "metadata": {
    "id": "disabled-malaysia"
   },
   "source": [
    "### 2.1.1 Amplitude Envelope"
   ]
  },
  {
   "cell_type": "markdown",
   "id": "hybrid-faculty",
   "metadata": {
    "id": "hybrid-faculty"
   },
   "source": [
    "The amplitude is computed by splitting the  audio into frames and taking the maximum amplitude value for each frame..."
   ]
  },
  {
   "cell_type": "markdown",
   "id": "stuffed-cornwall",
   "metadata": {
    "id": "stuffed-cornwall"
   },
   "source": [
    "![title](images/amplitude_envelope.png)"
   ]
  },
  {
   "cell_type": "markdown",
   "id": "divine-auditor",
   "metadata": {
    "id": "divine-auditor"
   },
   "source": [
    "Try and split your audio into frames of length `w`.\n",
    "\n",
    "**Hint**: `numpy` indexing you to take windows of size `w` from an array using `np.array_split(array, w)`."
   ]
  },
  {
   "cell_type": "code",
   "execution_count": null,
   "id": "synthetic-executive",
   "metadata": {
    "id": "synthetic-executive"
   },
   "outputs": [],
   "source": [
    "# Split audio array\n",
    "w = 44100 * 0.01\n",
    "split_array = np.array_split(audio_array, w)"
   ]
  },
  {
   "cell_type": "code",
   "execution_count": null,
   "id": "SrahVIXZoNF8",
   "metadata": {
    "id": "SrahVIXZoNF8"
   },
   "outputs": [],
   "source": [
    "audio_array\n",
    "split_array"
   ]
  },
  {
   "cell_type": "markdown",
   "id": "governing-sunglasses",
   "metadata": {
    "id": "governing-sunglasses"
   },
   "source": [
    "Take the maximum value for each window using `np.max()`.\n",
    "\n",
    "**Hint** A list comprehension may be useful here: `[<f(x)> for x in <iterable>]` where `<iterable>` is some iterable object and `<f(x)>` is some functon to apply to each  element of that iterable."
   ]
  },
  {
   "cell_type": "code",
   "execution_count": null,
   "id": "statewide-period",
   "metadata": {
    "id": "statewide-period"
   },
   "outputs": [],
   "source": [
    "# Get amplitude envelope by taking the max of the values of the split array\n",
    "def max_value(inputlist):\n",
    "    return [np.max(sublist) for sublist in inputlist]"
   ]
  },
  {
   "cell_type": "code",
   "execution_count": null,
   "id": "UziCSWbEwbHw",
   "metadata": {
    "colab": {
     "base_uri": "https://localhost:8080/"
    },
    "id": "UziCSWbEwbHw",
    "outputId": "ed1e02ca-0ae1-46ea-ce8d-7993b99275f9"
   },
   "outputs": [
    {
     "data": {
      "text/plain": [
       "441"
      ]
     },
     "execution_count": 44,
     "metadata": {},
     "output_type": "execute_result"
    }
   ],
   "source": [
    "\n",
    "max_values = max_value(split_array)\n",
    "len(max_values)"
   ]
  },
  {
   "cell_type": "markdown",
   "id": "advance-unemployment",
   "metadata": {
    "id": "advance-unemployment"
   },
   "source": [
    "Can you plot this envelope using `matplotlib.pyplot`. How does it compare with the original signal?"
   ]
  },
  {
   "cell_type": "code",
   "execution_count": null,
   "id": "gVNH8gpukGDm",
   "metadata": {
    "id": "gVNH8gpukGDm"
   },
   "outputs": [],
   "source": [
    "def amplitude_envelope(input_array):\n",
    "    w = 44100 * 0.01\n",
    "    split_array = np.array_split(audio_array, w)\n",
    "    return [np.max(sublist) for sublist in split_array]"
   ]
  },
  {
   "cell_type": "code",
   "execution_count": null,
   "id": "erZjD8wpo9SH",
   "metadata": {
    "colab": {
     "base_uri": "https://localhost:8080/",
     "height": 430
    },
    "id": "erZjD8wpo9SH",
    "outputId": "ef4c778f-cd35-49b9-e971-d154b3053a77"
   },
   "outputs": [
    {
     "data": {
      "image/png": "[encoded data removed]",
      "text/plain": [
       "<Figure size 640x480 with 1 Axes>"
      ]
     },
     "metadata": {},
     "output_type": "display_data"
    }
   ],
   "source": [
    "plot_waveform(max_values)"
   ]
  },
  {
   "cell_type": "markdown",
   "id": "fiscal-chicken",
   "metadata": {
    "id": "fiscal-chicken"
   },
   "source": [
    "### 2.1.2 Root Mean Square Energy"
   ]
  },
  {
   "cell_type": "markdown",
   "id": "buried-winter",
   "metadata": {
    "id": "buried-winter"
   },
   "source": [
    "The RMS energy is computed using"
   ]
  },
  {
   "cell_type": "markdown",
   "id": "superior-prototype",
   "metadata": {
    "id": "superior-prototype"
   },
   "source": [
    "![title](images/rms_energy.png)"
   ]
  },
  {
   "cell_type": "markdown",
   "id": "successful-recycling",
   "metadata": {
    "id": "successful-recycling"
   },
   "source": [
    "The `librosa` libray has an implementation at `librosa.feature.rms`"
   ]
  },
  {
   "cell_type": "code",
   "execution_count": null,
   "id": "turned-treasurer",
   "metadata": {
    "id": "turned-treasurer"
   },
   "outputs": [],
   "source": [
    "from librosa.feature import rms"
   ]
  },
  {
   "cell_type": "code",
   "execution_count": null,
   "id": "billion-independence",
   "metadata": {
    "id": "billion-independence"
   },
   "outputs": [],
   "source": [
    "# extact rms value\n",
    "root_ms = rms(y = audio_array)"
   ]
  },
  {
   "cell_type": "code",
   "execution_count": null,
   "id": "0FfDDzUZoJSW",
   "metadata": {
    "colab": {
     "base_uri": "https://localhost:8080/"
    },
    "id": "0FfDDzUZoJSW",
    "outputId": "17b7f7f2-2105-48ab-d54c-454cc285cb8e"
   },
   "outputs": [
    {
     "name": "stdout",
     "output_type": "stream",
     "text": [
      "[[0.15819265 0.16997229 0.17343615 0.12437271 0.07747407 0.04913189\n",
      "  0.03801203 0.03201981 0.02716856 0.02402701 0.02098492 0.0197243\n",
      "  0.03990816 0.11139578 0.13243145 0.13652378 0.13793352 0.15050794\n",
      "  0.15763442 0.16016406 0.15602699 0.09891678]]\n",
      "(1, 22)\n"
     ]
    }
   ],
   "source": [
    "print(root_ms)\n",
    "print(root_ms.shape)"
   ]
  },
  {
   "cell_type": "markdown",
   "id": "religious-angola",
   "metadata": {
    "id": "religious-angola"
   },
   "source": [
    "### 2.1.3 Zero Crossing Rate"
   ]
  },
  {
   "cell_type": "markdown",
   "id": "composed-stadium",
   "metadata": {
    "id": "composed-stadium"
   },
   "source": [
    "The zero crossing rate is the number of times the signal crosses the x axis"
   ]
  },
  {
   "cell_type": "markdown",
   "id": "civil-iceland",
   "metadata": {
    "id": "civil-iceland"
   },
   "source": [
    "# ![title](images/zero_crossing_graph.png)\n"
   ]
  },
  {
   "cell_type": "markdown",
   "id": "studied-cargo",
   "metadata": {
    "id": "studied-cargo"
   },
   "source": [
    "It is computed with the following equation"
   ]
  },
  {
   "cell_type": "markdown",
   "id": "christian-nomination",
   "metadata": {
    "id": "christian-nomination"
   },
   "source": [
    "![title](images/zero_crossing_eq.png)"
   ]
  },
  {
   "cell_type": "markdown",
   "id": "signal-tokyo",
   "metadata": {
    "id": "signal-tokyo"
   },
   "source": [
    "The `librosa` library provides an implementaton at `librosa.feature.zero_crossing_rate`"
   ]
  },
  {
   "cell_type": "code",
   "execution_count": null,
   "id": "embedded-screening",
   "metadata": {
    "id": "embedded-screening"
   },
   "outputs": [],
   "source": [
    "# import librosa zero_crossing_rate\n",
    "from librosa.feature import zero_crossing_rate"
   ]
  },
  {
   "cell_type": "code",
   "execution_count": null,
   "id": "distinguished-sixth",
   "metadata": {
    "id": "distinguished-sixth"
   },
   "outputs": [],
   "source": [
    "# compute ZCR\n",
    "zcr = zero_crossing_rate(audio_array)"
   ]
  },
  {
   "cell_type": "code",
   "execution_count": null,
   "id": "kXkylfpJoFR5",
   "metadata": {
    "colab": {
     "base_uri": "https://localhost:8080/"
    },
    "id": "kXkylfpJoFR5",
    "outputId": "e4d99c1f-8d01-4f3b-b530-095c5bbe1513"
   },
   "outputs": [
    {
     "name": "stdout",
     "output_type": "stream",
     "text": [
      "[[0.01220703 0.02441406 0.03662109 0.04394531 0.04882812 0.04833984\n",
      "  0.04833984 0.04296875 0.04150391 0.0390625  0.03515625 0.03417969\n",
      "  0.03613281 0.02832031 0.02099609 0.01513672 0.01025391 0.01269531\n",
      "  0.01513672 0.01953125 0.01513672 0.01123047]]\n",
      "(1, 22)\n"
     ]
    }
   ],
   "source": [
    "print(zcr)\n",
    "print(zcr.shape)"
   ]
  },
  {
   "cell_type": "markdown",
   "id": "comic-pulse",
   "metadata": {
    "id": "comic-pulse"
   },
   "source": [
    "## 2.2 Frequency Domain Features"
   ]
  },
  {
   "cell_type": "markdown",
   "id": "quick-shirt",
   "metadata": {
    "id": "quick-shirt"
   },
   "source": [
    "Here we will extract the frequency domain features of:\n",
    "\n",
    "- Band Energy Ratio\n",
    "- Spectral Centroid\n",
    "- Bandwidth\n",
    "- Mel Frequency Cepstral Coefficients\n",
    "\n",
    "We will work with the **frequency domain** representation of your audio (i.e. the frequency magnitude extracted from the fourier transform of your time domain signal).\n",
    "\n",
    "Almost all implementations of these feature extractors will compute the frequency domain spectrum for you."
   ]
  },
  {
   "cell_type": "markdown",
   "id": "adequate-argentina",
   "metadata": {
    "id": "adequate-argentina"
   },
   "source": [
    "### 2.2.1 Band Energy Ratio"
   ]
  },
  {
   "cell_type": "markdown",
   "id": "alert-doctrine",
   "metadata": {
    "id": "alert-doctrine"
   },
   "source": [
    "Band energy ratio is the ratio of energy between lower and higher frequency bands divided by some threshold, `F`."
   ]
  },
  {
   "cell_type": "markdown",
   "id": "rotary-march",
   "metadata": {
    "id": "rotary-march"
   },
   "source": [
    "![title](images/bre_spec.png)"
   ]
  },
  {
   "cell_type": "markdown",
   "id": "responsible-tattoo",
   "metadata": {
    "id": "responsible-tattoo"
   },
   "source": [
    "![title](images/bre_eq.png)"
   ]
  },
  {
   "cell_type": "markdown",
   "id": "minus-hebrew",
   "metadata": {
    "id": "minus-hebrew"
   },
   "source": [
    "The `essentia` library provides an implementation for computing the BER at `essentia.standard.EnergyBandRatio`. Import it and extract for your signal."
   ]
  },
  {
   "cell_type": "code",
   "execution_count": null,
   "id": "oRbbaLUCz2R9",
   "metadata": {
    "colab": {
     "base_uri": "https://localhost:8080/"
    },
    "id": "oRbbaLUCz2R9",
    "outputId": "8144caaf-0219-4e95-cb49-60ee8b9619b3"
   },
   "outputs": [
    {
     "name": "stdout",
     "output_type": "stream",
     "text": [
      "Looking in indexes: https://pypi.org/simple, https://us-python.pkg.dev/colab-wheels/public/simple/\n",
      "Collecting essentia\n",
      "  Downloading essentia-2.1b6.dev1034-cp310-cp310-manylinux_2_17_x86_64.manylinux2014_x86_64.whl (13.7 MB)\n",
      "\u001b[2K     \u001b[90m━━━━━━━━━━━━━━━━━━━━━━━━━━━━━━━━━━━━━━━━\u001b[0m \u001b[32m13.7/13.7 MB\u001b[0m \u001b[31m41.9 MB/s\u001b[0m eta \u001b[36m0:00:00\u001b[0m\n",
      "\u001b[?25hRequirement already satisfied: numpy>=1.8.2 in /usr/local/lib/python3.10/dist-packages (from essentia) (1.22.4)\n",
      "Requirement already satisfied: six in /usr/local/lib/python3.10/dist-packages (from essentia) (1.16.0)\n",
      "Requirement already satisfied: pyyaml in /usr/local/lib/python3.10/dist-packages (from essentia) (6.0)\n",
      "Installing collected packages: essentia\n",
      "Successfully installed essentia-2.1b6.dev1034\n"
     ]
    }
   ],
   "source": [
    "!pip install essentia"
   ]
  },
  {
   "cell_type": "code",
   "execution_count": null,
   "id": "vulnerable-fisher",
   "metadata": {
    "id": "vulnerable-fisher"
   },
   "outputs": [],
   "source": [
    "# import essentia\n",
    "from essentia.standard import EnergyBandRatio\n",
    "energy_band_ratio = EnergyBandRatio()"
   ]
  },
  {
   "cell_type": "code",
   "execution_count": null,
   "id": "final-library",
   "metadata": {
    "id": "final-library"
   },
   "outputs": [],
   "source": [
    "# compute BER\n",
    "\n",
    "ebr = energy_band_ratio(audio_array)"
   ]
  },
  {
   "cell_type": "code",
   "execution_count": null,
   "id": "k8i1zUF2n9KE",
   "metadata": {
    "colab": {
     "base_uri": "https://localhost:8080/"
    },
    "id": "k8i1zUF2n9KE",
    "outputId": "5d07af9c-7e46-4b7b-acbe-fedb058e26fb"
   },
   "outputs": [
    {
     "name": "stdout",
     "output_type": "stream",
     "text": [
      "0.0018528969958424568\n"
     ]
    }
   ],
   "source": [
    "print(ebr)"
   ]
  },
  {
   "cell_type": "markdown",
   "id": "exact-circle",
   "metadata": {
    "id": "exact-circle"
   },
   "source": [
    "### 2.2.2 Spectral Centroid"
   ]
  },
  {
   "cell_type": "markdown",
   "id": "disabled-pottery",
   "metadata": {
    "id": "disabled-pottery"
   },
   "source": [
    "The spectral centroid is a weighted mean of energy across all frequency bands. It is computed as:"
   ]
  },
  {
   "cell_type": "markdown",
   "id": "rubber-tracy",
   "metadata": {
    "id": "rubber-tracy"
   },
   "source": [
    "![title](images/spec_cent.png)"
   ]
  },
  {
   "cell_type": "markdown",
   "id": "detected-europe",
   "metadata": {
    "id": "detected-europe"
   },
   "source": [
    "The `librosa` libary provides an implementation at `librosa.feature.spectral_centroid`."
   ]
  },
  {
   "cell_type": "code",
   "execution_count": null,
   "id": "vietnamese-picture",
   "metadata": {
    "id": "vietnamese-picture"
   },
   "outputs": [],
   "source": [
    "# import librosa implementation\n",
    "from librosa.feature import spectral_centroid"
   ]
  },
  {
   "cell_type": "code",
   "execution_count": null,
   "id": "essential-woman",
   "metadata": {
    "id": "essential-woman"
   },
   "outputs": [],
   "source": [
    "# compute centroid for your signal\n",
    "spec_cent = spectral_centroid(y = audio_array)"
   ]
  },
  {
   "cell_type": "code",
   "execution_count": null,
   "id": "pI1kdtUxnyER",
   "metadata": {
    "colab": {
     "base_uri": "https://localhost:8080/"
    },
    "id": "pI1kdtUxnyER",
    "outputId": "663cc169-0057-4ea5-a3d3-9a6d6a5dd9bc"
   },
   "outputs": [
    {
     "name": "stdout",
     "output_type": "stream",
     "text": [
      "[[ 990.40932472 1008.98181323  977.86318576 1011.60201269 1054.27656531\n",
      "  1073.11778376 1042.51233642 1008.28077564  940.8830242   944.57437888\n",
      "   873.83800997  851.41183453 1015.81807259  929.68984936  562.67282254\n",
      "   294.40635772  307.67369922 1126.64490963  950.70289241  677.72466891\n",
      "   585.39730238  774.15779874]]\n",
      "(1, 22)\n"
     ]
    }
   ],
   "source": [
    "print(spec_cent)\n",
    "print(spec_cent.shape)"
   ]
  },
  {
   "cell_type": "markdown",
   "id": "equivalent-ridge",
   "metadata": {
    "id": "equivalent-ridge"
   },
   "source": [
    "### 2.2.3 Bandwidth"
   ]
  },
  {
   "cell_type": "markdown",
   "id": "forced-inquiry",
   "metadata": {
    "id": "forced-inquiry"
   },
   "source": [
    "The bandwidth captures the variance around spectral centroid."
   ]
  },
  {
   "cell_type": "markdown",
   "id": "expired-stamp",
   "metadata": {
    "id": "expired-stamp"
   },
   "source": [
    "![title](images/bandwidth.png)"
   ]
  },
  {
   "cell_type": "markdown",
   "id": "virtual-horizontal",
   "metadata": {
    "id": "virtual-horizontal"
   },
   "source": [
    "The `librosa` libary provides an implementation at `librosa.feature.spectral_bandwidth`."
   ]
  },
  {
   "cell_type": "code",
   "execution_count": null,
   "id": "pressed-juvenile",
   "metadata": {
    "id": "pressed-juvenile"
   },
   "outputs": [],
   "source": [
    "# import librosa implementation\n",
    "from librosa.feature import spectral_bandwidth"
   ]
  },
  {
   "cell_type": "code",
   "execution_count": null,
   "id": "biblical-startup",
   "metadata": {
    "id": "biblical-startup"
   },
   "outputs": [],
   "source": [
    "# compute bandwidth for your signal\n",
    "spec_bw = spectral_bandwidth(y = audio_array)"
   ]
  },
  {
   "cell_type": "code",
   "execution_count": null,
   "id": "9QgA4FE1nuBS",
   "metadata": {
    "colab": {
     "base_uri": "https://localhost:8080/"
    },
    "id": "9QgA4FE1nuBS",
    "outputId": "7996e198-a457-4130-866b-af2fe2c09731"
   },
   "outputs": [
    {
     "name": "stdout",
     "output_type": "stream",
     "text": [
      "[[1610.53380304 1414.87981461 1214.06755543 1194.14749762 1183.08501589\n",
      "  1212.77131671 1226.60833875 1237.82785025 1230.67425074 1199.23284017\n",
      "  1153.18419066 1112.63378393 1335.36318199 1386.3416335  1082.53387113\n",
      "   679.38417834  749.80978328 1761.91558669 1570.91859127 1174.17034528\n",
      "   976.93745677 1499.27818816]]\n",
      "(1, 22)\n"
     ]
    }
   ],
   "source": [
    "print(spec_bw)\n",
    "print(spec_bw.shape)"
   ]
  },
  {
   "cell_type": "markdown",
   "id": "authentic-senior",
   "metadata": {
    "id": "authentic-senior"
   },
   "source": [
    "### 2.2.4 Mel Frequency Cepstral Coefficients"
   ]
  },
  {
   "cell_type": "markdown",
   "id": "inclusive-present",
   "metadata": {
    "id": "inclusive-present"
   },
   "source": [
    "MFCC maps frequency magnitudes to the more perceptually relevant Mel frequencies. The mapping between frequency and Mel frequency is as follows."
   ]
  },
  {
   "cell_type": "markdown",
   "id": "incredible-former",
   "metadata": {
    "id": "incredible-former"
   },
   "source": [
    "![title](images/mel_freq.png)"
   ]
  },
  {
   "cell_type": "markdown",
   "id": "suited-faculty",
   "metadata": {
    "id": "suited-faculty"
   },
   "source": [
    "This mapping is not a simple conversion. More information on exactly how this is achieved can be found [here](https://www.youtube.com/watch?v=9GHCiiDLHQ4)"
   ]
  },
  {
   "cell_type": "markdown",
   "id": "future-fusion",
   "metadata": {
    "id": "future-fusion"
   },
   "source": [
    "The `librosa` libary provides an implementation at `librosa.feature.mfcc`."
   ]
  },
  {
   "cell_type": "code",
   "execution_count": null,
   "id": "national-monitor",
   "metadata": {
    "id": "national-monitor"
   },
   "outputs": [],
   "source": [
    "# import librosa implementation\n",
    "from librosa.feature import mfcc"
   ]
  },
  {
   "cell_type": "code",
   "execution_count": null,
   "id": "challenging-mailman",
   "metadata": {
    "id": "challenging-mailman"
   },
   "outputs": [],
   "source": [
    "# compute MFCC coefficients for your signal\n",
    "mfc_coeffs = mfcc(y = audio_array)"
   ]
  },
  {
   "cell_type": "code",
   "execution_count": null,
   "id": "2Io-RKHNnWxU",
   "metadata": {
    "colab": {
     "base_uri": "https://localhost:8080/"
    },
    "id": "2Io-RKHNnWxU",
    "outputId": "b83fbf8a-b76b-42e3-fa93-be1613f38184"
   },
   "outputs": [
    {
     "data": {
      "text/plain": [
       "(20, 22)"
      ]
     },
     "execution_count": 64,
     "metadata": {},
     "output_type": "execute_result"
    }
   ],
   "source": [
    "mfc_coeffs.shape"
   ]
  },
  {
   "cell_type": "markdown",
   "id": "xA4pdfYZVk7z",
   "metadata": {
    "id": "xA4pdfYZVk7z"
   },
   "source": [
    "#Other Features we chose\n",
    "- mean\n",
    "- max\n",
    "- min\n",
    "- standard deviation\n",
    "- spectral flatness"
   ]
  },
  {
   "cell_type": "code",
   "execution_count": null,
   "id": "bxhMaKELJrup",
   "metadata": {
    "id": "bxhMaKELJrup"
   },
   "outputs": [],
   "source": [
    "from librosa.feature import spectral_flatness"
   ]
  },
  {
   "cell_type": "code",
   "execution_count": null,
   "id": "egEB0nk0VkZI",
   "metadata": {
    "id": "egEB0nk0VkZI"
   },
   "outputs": [],
   "source": [
    "mean = np.mean(audio_array)\n",
    "max = np.max(audio_array)\n",
    "min = np.min(audio_array)\n",
    "stdev = np.std(audio_array)\n",
    "sf = spectral_flatness(y = audio_array)"
   ]
  },
  {
   "cell_type": "markdown",
   "id": "czech-apple",
   "metadata": {
    "id": "czech-apple"
   },
   "source": [
    "## 2.3 Extracting features across the dataset"
   ]
  },
  {
   "cell_type": "markdown",
   "id": "settled-majority",
   "metadata": {
    "id": "settled-majority"
   },
   "source": [
    "Now that you are able to extract features for one individual sample. Let's extract this to the entire dataset. The metadata file that you created in the **1. Dataset Creation** notebook should include all indices and filepaths of each sample.\n",
    "\n",
    "**Hint**: The `pandas` library loads a csv to a pandas dataframe with `pandas.read_csv`"
   ]
  },
  {
   "cell_type": "code",
   "execution_count": null,
   "id": "nuclear-objective",
   "metadata": {
    "id": "nuclear-objective"
   },
   "outputs": [],
   "source": [
    "# Load metadata\n",
    "metadata_path = 'drive/MyDrive/p-4/Jupyter-lab Colab/+300.000 samples/metadata.csv'\n",
    "metadata = pd.read_csv(metadata_path)"
   ]
  },
  {
   "cell_type": "code",
   "execution_count": null,
   "id": "ST8hetdP8Xmv",
   "metadata": {
    "colab": {
     "base_uri": "https://localhost:8080/"
    },
    "id": "ST8hetdP8Xmv",
    "outputId": "0efe19f4-e7d1-4558-c1d9-78a8c5e7b651"
   },
   "outputs": [
    {
     "name": "stdout",
     "output_type": "stream",
     "text": [
      "'Dataset Creation.ipynb'   metadata.csv   README.md\n"
     ]
    }
   ],
   "source": [
    "!ls iccm"
   ]
  },
  {
   "cell_type": "code",
   "execution_count": null,
   "id": "GlF0b24oly6S",
   "metadata": {
    "colab": {
     "base_uri": "https://localhost:8080/",
     "height": 424
    },
    "id": "GlF0b24oly6S",
    "outputId": "86af6bec-ea2a-4e15-8fdf-19a557cf5083"
   },
   "outputs": [
    {
     "data": {
      "text/html": [
       "\n",
       "  <div id=\"df-75984edb-ef9a-46b3-9347-a0c3db76ee89\">\n",
       "    <div class=\"colab-df-container\">\n",
       "      <div>\n",
       "<style scoped>\n",
       "    .dataframe tbody tr th:only-of-type {\n",
       "        vertical-align: middle;\n",
       "    }\n",
       "\n",
       "    .dataframe tbody tr th {\n",
       "        vertical-align: top;\n",
       "    }\n",
       "\n",
       "    .dataframe thead th {\n",
       "        text-align: right;\n",
       "    }\n",
       "</style>\n",
       "<table border=\"1\" class=\"dataframe\">\n",
       "  <thead>\n",
       "    <tr style=\"text-align: right;\">\n",
       "      <th></th>\n",
       "      <th>chunk_id</th>\n",
       "      <th>track_id</th>\n",
       "      <th>time_stamp</th>\n",
       "      <th>performance</th>\n",
       "      <th>contains_voice</th>\n",
       "      <th>contains_violin</th>\n",
       "      <th>contains_mridangam</th>\n",
       "    </tr>\n",
       "  </thead>\n",
       "  <tbody>\n",
       "    <tr>\n",
       "      <th>0</th>\n",
       "      <td>0</td>\n",
       "      <td>0_Dorakuna</td>\n",
       "      <td>0.25</td>\n",
       "      <td>Dorakuna</td>\n",
       "      <td>False</td>\n",
       "      <td>False</td>\n",
       "      <td>False</td>\n",
       "    </tr>\n",
       "    <tr>\n",
       "      <th>1</th>\n",
       "      <td>1</td>\n",
       "      <td>0_Dorakuna</td>\n",
       "      <td>0.50</td>\n",
       "      <td>Dorakuna</td>\n",
       "      <td>False</td>\n",
       "      <td>False</td>\n",
       "      <td>False</td>\n",
       "    </tr>\n",
       "    <tr>\n",
       "      <th>2</th>\n",
       "      <td>2</td>\n",
       "      <td>0_Dorakuna</td>\n",
       "      <td>0.75</td>\n",
       "      <td>Dorakuna</td>\n",
       "      <td>False</td>\n",
       "      <td>False</td>\n",
       "      <td>False</td>\n",
       "    </tr>\n",
       "    <tr>\n",
       "      <th>3</th>\n",
       "      <td>3</td>\n",
       "      <td>0_Dorakuna</td>\n",
       "      <td>1.00</td>\n",
       "      <td>Dorakuna</td>\n",
       "      <td>False</td>\n",
       "      <td>False</td>\n",
       "      <td>False</td>\n",
       "    </tr>\n",
       "    <tr>\n",
       "      <th>4</th>\n",
       "      <td>4</td>\n",
       "      <td>0_Dorakuna</td>\n",
       "      <td>1.25</td>\n",
       "      <td>Dorakuna</td>\n",
       "      <td>False</td>\n",
       "      <td>False</td>\n",
       "      <td>False</td>\n",
       "    </tr>\n",
       "    <tr>\n",
       "      <th>...</th>\n",
       "      <td>...</td>\n",
       "      <td>...</td>\n",
       "      <td>...</td>\n",
       "      <td>...</td>\n",
       "      <td>...</td>\n",
       "      <td>...</td>\n",
       "      <td>...</td>\n",
       "    </tr>\n",
       "    <tr>\n",
       "      <th>307864</th>\n",
       "      <td>307864</td>\n",
       "      <td>143_Sundari_Nee_Divya</td>\n",
       "      <td>1508.75</td>\n",
       "      <td>Sundari Nee Divya</td>\n",
       "      <td>False</td>\n",
       "      <td>False</td>\n",
       "      <td>False</td>\n",
       "    </tr>\n",
       "    <tr>\n",
       "      <th>307865</th>\n",
       "      <td>307865</td>\n",
       "      <td>143_Sundari_Nee_Divya</td>\n",
       "      <td>1509.00</td>\n",
       "      <td>Sundari Nee Divya</td>\n",
       "      <td>False</td>\n",
       "      <td>True</td>\n",
       "      <td>False</td>\n",
       "    </tr>\n",
       "    <tr>\n",
       "      <th>307866</th>\n",
       "      <td>307866</td>\n",
       "      <td>143_Sundari_Nee_Divya</td>\n",
       "      <td>1509.25</td>\n",
       "      <td>Sundari Nee Divya</td>\n",
       "      <td>False</td>\n",
       "      <td>False</td>\n",
       "      <td>False</td>\n",
       "    </tr>\n",
       "    <tr>\n",
       "      <th>307867</th>\n",
       "      <td>307867</td>\n",
       "      <td>143_Sundari_Nee_Divya</td>\n",
       "      <td>1509.50</td>\n",
       "      <td>Sundari Nee Divya</td>\n",
       "      <td>False</td>\n",
       "      <td>True</td>\n",
       "      <td>False</td>\n",
       "    </tr>\n",
       "    <tr>\n",
       "      <th>307868</th>\n",
       "      <td>307868</td>\n",
       "      <td>143_Sundari_Nee_Divya</td>\n",
       "      <td>1509.75</td>\n",
       "      <td>Sundari Nee Divya</td>\n",
       "      <td>False</td>\n",
       "      <td>False</td>\n",
       "      <td>False</td>\n",
       "    </tr>\n",
       "  </tbody>\n",
       "</table>\n",
       "<p>307869 rows × 7 columns</p>\n",
       "</div>\n",
       "      <button class=\"colab-df-convert\" onclick=\"convertToInteractive('df-75984edb-ef9a-46b3-9347-a0c3db76ee89')\"\n",
       "              title=\"Convert this dataframe to an interactive table.\"\n",
       "              style=\"display:none;\">\n",
       "        \n",
       "  <svg xmlns=\"http://www.w3.org/2000/svg\" height=\"24px\"viewBox=\"0 0 24 24\"\n",
       "       width=\"24px\">\n",
       "    <path d=\"M0 0h24v24H0V0z\" fill=\"none\"/>\n",
       "    <path d=\"M18.56 5.44l.94 2.06.94-2.06 2.06-.94-2.06-.94-.94-2.06-.94 2.06-2.06.94zm-11 1L8.5 8.5l.94-2.06 2.06-.94-2.06-.94L8.5 2.5l-.94 2.06-2.06.94zm10 10l.94 2.06.94-2.06 2.06-.94-2.06-.94-.94-2.06-.94 2.06-2.06.94z\"/><path d=\"M17.41 7.96l-1.37-1.37c-.4-.4-.92-.59-1.43-.59-.52 0-1.04.2-1.43.59L10.3 9.45l-7.72 7.72c-.78.78-.78 2.05 0 2.83L4 21.41c.39.39.9.59 1.41.59.51 0 1.02-.2 1.41-.59l7.78-7.78 2.81-2.81c.8-.78.8-2.07 0-2.86zM5.41 20L4 18.59l7.72-7.72 1.47 1.35L5.41 20z\"/>\n",
       "  </svg>\n",
       "      </button>\n",
       "      \n",
       "  <style>\n",
       "    .colab-df-container {\n",
       "      display:flex;\n",
       "      flex-wrap:wrap;\n",
       "      gap: 12px;\n",
       "    }\n",
       "\n",
       "    .colab-df-convert {\n",
       "      background-color: #E8F0FE;\n",
       "      border: none;\n",
       "      border-radius: 50%;\n",
       "      cursor: pointer;\n",
       "      display: none;\n",
       "      fill: #1967D2;\n",
       "      height: 32px;\n",
       "      padding: 0 0 0 0;\n",
       "      width: 32px;\n",
       "    }\n",
       "\n",
       "    .colab-df-convert:hover {\n",
       "      background-color: #E2EBFA;\n",
       "      box-shadow: 0px 1px 2px rgba(60, 64, 67, 0.3), 0px 1px 3px 1px rgba(60, 64, 67, 0.15);\n",
       "      fill: #174EA6;\n",
       "    }\n",
       "\n",
       "    [theme=dark] .colab-df-convert {\n",
       "      background-color: #3B4455;\n",
       "      fill: #D2E3FC;\n",
       "    }\n",
       "\n",
       "    [theme=dark] .colab-df-convert:hover {\n",
       "      background-color: #434B5C;\n",
       "      box-shadow: 0px 1px 3px 1px rgba(0, 0, 0, 0.15);\n",
       "      filter: drop-shadow(0px 1px 2px rgba(0, 0, 0, 0.3));\n",
       "      fill: #FFFFFF;\n",
       "    }\n",
       "  </style>\n",
       "\n",
       "      <script>\n",
       "        const buttonEl =\n",
       "          document.querySelector('#df-75984edb-ef9a-46b3-9347-a0c3db76ee89 button.colab-df-convert');\n",
       "        buttonEl.style.display =\n",
       "          google.colab.kernel.accessAllowed ? 'block' : 'none';\n",
       "\n",
       "        async function convertToInteractive(key) {\n",
       "          const element = document.querySelector('#df-75984edb-ef9a-46b3-9347-a0c3db76ee89');\n",
       "          const dataTable =\n",
       "            await google.colab.kernel.invokeFunction('convertToInteractive',\n",
       "                                                     [key], {});\n",
       "          if (!dataTable) return;\n",
       "\n",
       "          const docLinkHtml = 'Like what you see? Visit the ' +\n",
       "            '<a target=\"_blank\" href=https://colab.research.google.com/notebooks/data_table.ipynb>data table notebook</a>'\n",
       "            + ' to learn more about interactive tables.';\n",
       "          element.innerHTML = '';\n",
       "          dataTable['output_type'] = 'display_data';\n",
       "          await google.colab.output.renderOutput(dataTable, element);\n",
       "          const docLink = document.createElement('div');\n",
       "          docLink.innerHTML = docLinkHtml;\n",
       "          element.appendChild(docLink);\n",
       "        }\n",
       "      </script>\n",
       "    </div>\n",
       "  </div>\n",
       "  "
      ],
      "text/plain": [
       "        chunk_id               track_id  time_stamp        performance  \\\n",
       "0              0             0_Dorakuna        0.25           Dorakuna   \n",
       "1              1             0_Dorakuna        0.50           Dorakuna   \n",
       "2              2             0_Dorakuna        0.75           Dorakuna   \n",
       "3              3             0_Dorakuna        1.00           Dorakuna   \n",
       "4              4             0_Dorakuna        1.25           Dorakuna   \n",
       "...          ...                    ...         ...                ...   \n",
       "307864    307864  143_Sundari_Nee_Divya     1508.75  Sundari Nee Divya   \n",
       "307865    307865  143_Sundari_Nee_Divya     1509.00  Sundari Nee Divya   \n",
       "307866    307866  143_Sundari_Nee_Divya     1509.25  Sundari Nee Divya   \n",
       "307867    307867  143_Sundari_Nee_Divya     1509.50  Sundari Nee Divya   \n",
       "307868    307868  143_Sundari_Nee_Divya     1509.75  Sundari Nee Divya   \n",
       "\n",
       "        contains_voice  contains_violin  contains_mridangam  \n",
       "0                False            False               False  \n",
       "1                False            False               False  \n",
       "2                False            False               False  \n",
       "3                False            False               False  \n",
       "4                False            False               False  \n",
       "...                ...              ...                 ...  \n",
       "307864           False            False               False  \n",
       "307865           False             True               False  \n",
       "307866           False            False               False  \n",
       "307867           False             True               False  \n",
       "307868           False            False               False  \n",
       "\n",
       "[307869 rows x 7 columns]"
      ]
     },
     "execution_count": 21,
     "metadata": {},
     "output_type": "execute_result"
    }
   ],
   "source": [
    "metadata"
   ]
  },
  {
   "cell_type": "markdown",
   "id": "czech-league",
   "metadata": {
    "id": "czech-league"
   },
   "source": [
    "Iterate through the rows in this metadata file, extracting filepath and index. For each filepath, load the audio sample and apply the feature extractors defined above. Make sure to store these features in a dataframe with columns=`index`,`feature_name`.\n",
    "\n",
    "**Hint**: `.iterrows()` allows dataframe row iteration on pandas dataframe\n",
    "\n",
    "**Hint**: `pandas.DataFrame` initialises a new dataframe\n",
    "\n",
    "**Hint**: `df.append` appends new rows to a pandas dataframe"
   ]
  },
  {
   "cell_type": "code",
   "execution_count": null,
   "id": "IAyBwO7zEHIm",
   "metadata": {
    "colab": {
     "base_uri": "https://localhost:8080/",
     "height": 79
    },
    "id": "IAyBwO7zEHIm",
    "outputId": "90359f01-8ecb-4fef-cc5c-070fd4d66c30"
   },
   "outputs": [
    {
     "data": {
      "text/html": [
       "\n",
       "  <div id=\"df-2ef57b9a-2174-4f77-afd7-47469f569ed6\">\n",
       "    <div class=\"colab-df-container\">\n",
       "      <div>\n",
       "<style scoped>\n",
       "    .dataframe tbody tr th:only-of-type {\n",
       "        vertical-align: middle;\n",
       "    }\n",
       "\n",
       "    .dataframe tbody tr th {\n",
       "        vertical-align: top;\n",
       "    }\n",
       "\n",
       "    .dataframe thead th {\n",
       "        text-align: right;\n",
       "    }\n",
       "</style>\n",
       "<table border=\"1\" class=\"dataframe\">\n",
       "  <thead>\n",
       "    <tr style=\"text-align: right;\">\n",
       "      <th></th>\n",
       "      <th>BER</th>\n",
       "      <th>Amp_Env_Max</th>\n",
       "      <th>Amp_Env_Min</th>\n",
       "      <th>Amp_Env_Mean</th>\n",
       "      <th>Amp_Env_Var</th>\n",
       "      <th>RMSE_Max</th>\n",
       "      <th>RMSE_Min</th>\n",
       "      <th>RMSE_Mean</th>\n",
       "      <th>ZCR_Max</th>\n",
       "      <th>ZCR_Min</th>\n",
       "      <th>...</th>\n",
       "      <th>MFCC_10</th>\n",
       "      <th>MFCC_11</th>\n",
       "      <th>MFCC_12</th>\n",
       "      <th>MFCC_13</th>\n",
       "      <th>MFCC_14</th>\n",
       "      <th>MFCC_15</th>\n",
       "      <th>MFCC_16</th>\n",
       "      <th>MFCC_17</th>\n",
       "      <th>MFCC_18</th>\n",
       "      <th>MFCC_19</th>\n",
       "    </tr>\n",
       "  </thead>\n",
       "  <tbody>\n",
       "  </tbody>\n",
       "</table>\n",
       "<p>0 rows × 44 columns</p>\n",
       "</div>\n",
       "      <button class=\"colab-df-convert\" onclick=\"convertToInteractive('df-2ef57b9a-2174-4f77-afd7-47469f569ed6')\"\n",
       "              title=\"Convert this dataframe to an interactive table.\"\n",
       "              style=\"display:none;\">\n",
       "        \n",
       "  <svg xmlns=\"http://www.w3.org/2000/svg\" height=\"24px\"viewBox=\"0 0 24 24\"\n",
       "       width=\"24px\">\n",
       "    <path d=\"M0 0h24v24H0V0z\" fill=\"none\"/>\n",
       "    <path d=\"M18.56 5.44l.94 2.06.94-2.06 2.06-.94-2.06-.94-.94-2.06-.94 2.06-2.06.94zm-11 1L8.5 8.5l.94-2.06 2.06-.94-2.06-.94L8.5 2.5l-.94 2.06-2.06.94zm10 10l.94 2.06.94-2.06 2.06-.94-2.06-.94-.94-2.06-.94 2.06-2.06.94z\"/><path d=\"M17.41 7.96l-1.37-1.37c-.4-.4-.92-.59-1.43-.59-.52 0-1.04.2-1.43.59L10.3 9.45l-7.72 7.72c-.78.78-.78 2.05 0 2.83L4 21.41c.39.39.9.59 1.41.59.51 0 1.02-.2 1.41-.59l7.78-7.78 2.81-2.81c.8-.78.8-2.07 0-2.86zM5.41 20L4 18.59l7.72-7.72 1.47 1.35L5.41 20z\"/>\n",
       "  </svg>\n",
       "      </button>\n",
       "      \n",
       "  <style>\n",
       "    .colab-df-container {\n",
       "      display:flex;\n",
       "      flex-wrap:wrap;\n",
       "      gap: 12px;\n",
       "    }\n",
       "\n",
       "    .colab-df-convert {\n",
       "      background-color: #E8F0FE;\n",
       "      border: none;\n",
       "      border-radius: 50%;\n",
       "      cursor: pointer;\n",
       "      display: none;\n",
       "      fill: #1967D2;\n",
       "      height: 32px;\n",
       "      padding: 0 0 0 0;\n",
       "      width: 32px;\n",
       "    }\n",
       "\n",
       "    .colab-df-convert:hover {\n",
       "      background-color: #E2EBFA;\n",
       "      box-shadow: 0px 1px 2px rgba(60, 64, 67, 0.3), 0px 1px 3px 1px rgba(60, 64, 67, 0.15);\n",
       "      fill: #174EA6;\n",
       "    }\n",
       "\n",
       "    [theme=dark] .colab-df-convert {\n",
       "      background-color: #3B4455;\n",
       "      fill: #D2E3FC;\n",
       "    }\n",
       "\n",
       "    [theme=dark] .colab-df-convert:hover {\n",
       "      background-color: #434B5C;\n",
       "      box-shadow: 0px 1px 3px 1px rgba(0, 0, 0, 0.15);\n",
       "      filter: drop-shadow(0px 1px 2px rgba(0, 0, 0, 0.3));\n",
       "      fill: #FFFFFF;\n",
       "    }\n",
       "  </style>\n",
       "\n",
       "      <script>\n",
       "        const buttonEl =\n",
       "          document.querySelector('#df-2ef57b9a-2174-4f77-afd7-47469f569ed6 button.colab-df-convert');\n",
       "        buttonEl.style.display =\n",
       "          google.colab.kernel.accessAllowed ? 'block' : 'none';\n",
       "\n",
       "        async function convertToInteractive(key) {\n",
       "          const element = document.querySelector('#df-2ef57b9a-2174-4f77-afd7-47469f569ed6');\n",
       "          const dataTable =\n",
       "            await google.colab.kernel.invokeFunction('convertToInteractive',\n",
       "                                                     [key], {});\n",
       "          if (!dataTable) return;\n",
       "\n",
       "          const docLinkHtml = 'Like what you see? Visit the ' +\n",
       "            '<a target=\"_blank\" href=https://colab.research.google.com/notebooks/data_table.ipynb>data table notebook</a>'\n",
       "            + ' to learn more about interactive tables.';\n",
       "          element.innerHTML = '';\n",
       "          dataTable['output_type'] = 'display_data';\n",
       "          await google.colab.output.renderOutput(dataTable, element);\n",
       "          const docLink = document.createElement('div');\n",
       "          docLink.innerHTML = docLinkHtml;\n",
       "          element.appendChild(docLink);\n",
       "        }\n",
       "      </script>\n",
       "    </div>\n",
       "  </div>\n",
       "  "
      ],
      "text/plain": [
       "Empty DataFrame\n",
       "Columns: [BER, Amp_Env_Max, Amp_Env_Min, Amp_Env_Mean, Amp_Env_Var, RMSE_Max, RMSE_Min, RMSE_Mean, ZCR_Max, ZCR_Min, ZCR_Mean, Spec_Centroid_Max, Spec_Centroid_Min, Spec_Centroid_Mean, Spec_Flatness_Max, Spec_Flatness_Min, Spec_Flatness_Mean, Spec_Bandwidth_Max, Spec_Bandwidth_Min, Spec_Bandwidth_Mean, Mean, Max, Min, StDev, MFCC_0, MFCC_1, MFCC_2, MFCC_3, MFCC_4, MFCC_5, MFCC_6, MFCC_7, MFCC_8, MFCC_9, MFCC_10, MFCC_11, MFCC_12, MFCC_13, MFCC_14, MFCC_15, MFCC_16, MFCC_17, MFCC_18, MFCC_19]\n",
       "Index: []\n",
       "\n",
       "[0 rows x 44 columns]"
      ]
     },
     "execution_count": 23,
     "metadata": {},
     "output_type": "execute_result"
    }
   ],
   "source": [
    "cols = ['BER',\n",
    "        'Amp_Env_Max',\n",
    "        'Amp_Env_Min',\n",
    "        'Amp_Env_Mean',\n",
    "        'Amp_Env_Var',\n",
    "        'RMSE_Max',\n",
    "        'RMSE_Min',\n",
    "        'RMSE_Mean',\n",
    "        'ZCR_Max',\n",
    "        'ZCR_Min',\n",
    "        'ZCR_Mean',\n",
    "        'Spec_Centroid_Max',\n",
    "        'Spec_Centroid_Min',\n",
    "        'Spec_Centroid_Mean',\n",
    "        'Spec_Flatness_Max',\n",
    "        'Spec_Flatness_Min',\n",
    "        'Spec_Flatness_Mean',\n",
    "        'Spec_Bandwidth_Max',\n",
    "        'Spec_Bandwidth_Min',\n",
    "        'Spec_Bandwidth_Mean',\n",
    "        'Mean',\n",
    "        'Max',\n",
    "        'Min',\n",
    "        'StDev'\n",
    "        ]\n",
    "for i in range(20):\n",
    "    cols.append(f'MFCC_{i}')\n",
    "features = pd.DataFrame(columns = cols)\n",
    "features"
   ]
  },
  {
   "cell_type": "code",
   "execution_count": null,
   "id": "PZXP5yjnH-No",
   "metadata": {
    "id": "PZXP5yjnH-No"
   },
   "outputs": [],
   "source": [
    "import warnings\n",
    "warnings.filterwarnings(\"ignore\")"
   ]
  },
  {
   "cell_type": "code",
   "execution_count": null,
   "id": "kgi-au6NRcxO",
   "metadata": {
    "colab": {
     "base_uri": "https://localhost:8080/"
    },
    "id": "kgi-au6NRcxO",
    "outputId": "295beb33-96b7-4c44-c781-0f15f5174bf2"
   },
   "outputs": [
    {
     "name": "stdout",
     "output_type": "stream",
     "text": [
      "drive  iccm  sample_data  samples\n"
     ]
    }
   ],
   "source": [
    "!ls"
   ]
  },
  {
   "cell_type": "code",
   "execution_count": null,
   "id": "efficient-reservoir",
   "metadata": {
    "colab": {
     "base_uri": "https://localhost:8080/"
    },
    "id": "efficient-reservoir",
    "outputId": "ee955af8-3d77-4c5c-be8a-57df574b9fd3"
   },
   "outputs": [
    {
     "name": "stdout",
     "output_type": "stream",
     "text": [
      "        BER  Amp_Env_Max  Amp_Env_Min  Amp_Env_Mean  Amp_Env_Var  RMSE_Max  \\\n",
      "0  0.006061     0.281342    -0.090302      0.088227     0.007371  0.094870   \n",
      "1  0.004512     0.280975    -0.132568      0.082936     0.005619  0.128871   \n",
      "2  0.006468     0.139526    -0.053772      0.023949     0.001886  0.049900   \n",
      "3  0.004367     0.641907    -0.415527      0.026033     0.016076  0.267904   \n",
      "4  0.005356     0.414856    -0.205414      0.079291     0.010331  0.185070   \n",
      "\n",
      "   RMSE_Min  RMSE_Mean   ZCR_Max   ZCR_Min  ...     MFCC_10     MFCC_11  \\\n",
      "0  0.051239   0.079648  0.075195  0.016113  ... -266.750366 -262.741943   \n",
      "1  0.059394   0.091771  0.058594  0.024902  ... -212.688263 -231.262589   \n",
      "2  0.031766   0.040711  0.053711  0.005371  ... -308.021362 -311.401917   \n",
      "3  0.015638   0.084500  0.037109  0.003906  ... -385.590698 -387.289673   \n",
      "4  0.070489   0.115049  0.028320  0.010742  ... -286.069580 -274.246246   \n",
      "\n",
      "      MFCC_12     MFCC_13     MFCC_14     MFCC_15     MFCC_16     MFCC_17  \\\n",
      "0 -211.880508 -176.290405 -194.258514 -229.249542 -242.852890 -261.000397   \n",
      "1 -241.532547 -235.469528 -229.440659 -228.119797 -230.106400 -230.142685   \n",
      "2 -310.222076 -306.932281 -307.787811 -307.819183 -304.487000 -304.433472   \n",
      "3 -382.094452 -383.803253 -292.073730 -185.873642 -181.555313 -229.269836   \n",
      "4 -265.589081 -262.506378 -258.595947 -245.133835 -234.815170 -238.894470   \n",
      "\n",
      "      MFCC_18     MFCC_19  \n",
      "0 -293.160492 -312.861084  \n",
      "1 -236.071014 -244.865799  \n",
      "2 -303.542938 -303.353119  \n",
      "3 -256.295532 -273.903198  \n",
      "4 -247.143768 -263.482269  \n",
      "\n",
      "[5 rows x 44 columns]\n"
     ]
    }
   ],
   "source": [
    "# iterate through\n",
    "frame_length = 44100 * 0.5\n",
    "      # FILEPATH NEEDS TO BE CHANGED\n",
    "      #filepath = f'drive/Shareddrives/TTM - GROUP 4/chunk wav files/test/{index}.wav'\n",
    "      #\n",
    "for root, directories, files in os.walk('samples'):\n",
    "    for filename in files:\n",
    "          filepath = os.path.join(root, filename)\n",
    "          audio_array, sr = load_sample(filepath)\n",
    "          # extract features\n",
    "          amp_env = amplitude_envelope(audio_array)\n",
    "          root_mse = rms(y = audio_array)[0]\n",
    "          zcr = zero_crossing_rate(y = audio_array)[0]\n",
    "          spec_c = spectral_centroid(y = audio_array)[0]\n",
    "          spec_f = spectral_flatness(y = audio_array)[0]\n",
    "          spec_b = spectral_bandwidth(y = audio_array)[0]\n",
    "\n",
    "          amp_env_max = np.max(amp_env)\n",
    "          root_mse_max = np.max(root_mse)\n",
    "          zcr_max = np.max(zcr)\n",
    "          spec_c_max = np.max(spec_c)\n",
    "          spec_f_max = np.max(spec_f)\n",
    "          spec_b_max = np.max(spec_b)\n",
    "\n",
    "          amp_env_min = np.min(amp_env)\n",
    "          root_mse_min = np.min(root_mse)\n",
    "          zcr_min = np.min(zcr)\n",
    "          spec_c_min = np.min(spec_c)\n",
    "          spec_f_min = np.min(spec_f)\n",
    "          spec_b_min = np.min(spec_b)\n",
    "\n",
    "          amp_env_mean = np.mean(amp_env)\n",
    "          root_mse_mean = np.mean(root_mse)\n",
    "          zcr_mean = np.mean(zcr)\n",
    "          spec_c_mean = np.mean(spec_c)\n",
    "          spec_f_mean = np.mean(spec_f)\n",
    "          spec_b_mean = np.mean(spec_b)\n",
    "\n",
    "          amp_env_var = np.var(amp_env)\n",
    "          ber = energy_band_ratio(audio_array)\n",
    "          mean = np.mean(audio_array)\n",
    "          max = np.max(audio_array)\n",
    "          min = np.min(audio_array)\n",
    "          std = np.std(audio_array)\n",
    "          mfc_coeffs = mfcc(y = audio_array)[0]\n",
    "\n",
    "          # store in new features dataframe\n",
    "          row = ({'Amp_Env_Max': amp_env_max,\n",
    "                          'Amp_Env_Min': amp_env_min,\n",
    "                          'Amp_Env_Mean': amp_env_mean,\n",
    "                          'Amp_Env_Var': amp_env_var,\n",
    "                          'RMSE_Max': root_mse_max,\n",
    "                          'RMSE_Min': root_mse_min,\n",
    "                          'RMSE_Mean': root_mse_mean,\n",
    "                          'ZCR_Max': zcr_max,\n",
    "                          'ZCR_Min': zcr_min,\n",
    "                          'ZCR_Mean': zcr_mean,\n",
    "                          'BER': ber,\n",
    "                          'Spec_Centroid_Max': spec_c_max,\n",
    "                          'Spec_Centroid_Min': spec_c_min,\n",
    "                          'Spec_Centroid_Mean': spec_c_mean,\n",
    "                          'Spec_Flatness_Max': spec_f_max,\n",
    "                          'Spec_Flatness_Min': spec_f_min,\n",
    "                          'Spec_Flatness_Mean': spec_f_mean,\n",
    "                          'Spec_Bandwidth_Max': spec_b_max,\n",
    "                          'Spec_Bandwidth_Min': spec_b_min,\n",
    "                          'Spec_Bandwidth_Mean': spec_b_mean,\n",
    "                          'Mean': mean,\n",
    "                          'Max': max,\n",
    "                          'Min': min,\n",
    "                          'StDev': std\n",
    "                          })\n",
    "          for i in range(20):\n",
    "              row[f'MFCC_{i}'] = mfc_coeffs[i]\n",
    "          features = features.append(row, ignore_index = True)\n",
    "print(features.head())"
   ]
  },
  {
   "cell_type": "markdown",
   "id": "congressional-tracy",
   "metadata": {
    "id": "congressional-tracy"
   },
   "source": [
    "Store this features dataframe alongside the original dataset\n",
    "\n",
    "**Hint**: `df.to_csv` writes a dataframe to csv file"
   ]
  },
  {
   "cell_type": "code",
   "execution_count": null,
   "id": "needed-worst",
   "metadata": {
    "id": "needed-worst"
   },
   "outputs": [],
   "source": [
    "# write dataframe\n",
    "features.to_csv('/content/drive/MyDrive/p-4/Jupyter-lab Colab/Feature Extraction/features.csv')"
   ]
  },
  {
   "cell_type": "markdown",
   "id": "YfR5ri215WMB",
   "metadata": {
    "id": "YfR5ri215WMB"
   },
   "source": [
    "Amplitude Envelope\n",
    "Root-Mean-Squared Energy\n",
    "Zero Crossing Rate\n",
    "And the frequency domain features of:\n",
    "\n",
    "Band Energy Ratio\n",
    "Spectral Centroid\n",
    "Bandwidth\n",
    "Mel Frequency Cepstral Coefficients"
   ]
  }
 ],
 "metadata": {
  "colab": {
   "provenance": []
  },
  "kernelspec": {
   "display_name": "Python 3",
   "language": "python",
   "name": "python3"
  },
  "language_info": {
   "codemirror_mode": {
    "name": "ipython",
    "version": 3
   },
   "file_extension": ".py",
   "mimetype": "text/x-python",
   "name": "python",
   "nbconvert_exporter": "python",
   "pygments_lexer": "ipython3",
   "version": "3.8.8"
  }
 },
 "nbformat": 4,
 "nbformat_minor": 5
}
