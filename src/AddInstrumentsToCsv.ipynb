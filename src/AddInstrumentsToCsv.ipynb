{
 "cells": [
  {
   "cell_type": "code",
   "execution_count": 3,
   "id": "9c36007e-d750-480f-bde8-1d396a991a56",
   "metadata": {},
   "outputs": [],
   "source": [
    "import pandas as pd\n",
    "\n",
    "# Read the metadata-binary.csv file\n",
    "metadata = pd.read_csv('metadata-binary.csv')\n",
    "\n",
    "# Create a function to determine the instrument combination\n",
    "def determine_instrument(row):\n",
    "    if row['contains_voice'] == 0 and row['contains_violin'] == 0 and row['contains_mridangam'] == 0:\n",
    "        return 0 #'None of them'\n",
    "    elif row['contains_voice'] == 1 and row['contains_violin'] == 0 and row['contains_mridangam'] == 0:\n",
    "        return 1 #'Vocal'\n",
    "    elif row['contains_voice'] == 0 and row['contains_violin'] == 1 and row['contains_mridangam'] == 0:\n",
    "        return 2 #'Violin'\n",
    "    elif row['contains_voice'] == 0 and row['contains_violin'] == 0 and row['contains_mridangam'] == 1:\n",
    "        return 3 #'Mridangam'\n",
    "    elif row['contains_voice'] == 1 and row['contains_violin'] == 1 and row['contains_mridangam'] == 0:\n",
    "        return 4 #'Vocal+Violin'\n",
    "    elif row['contains_voice'] == 1 and row['contains_violin'] == 0 and row['contains_mridangam'] == 1:\n",
    "        return 5 #'Vocal+Mridangam'\n",
    "    elif row['contains_voice'] == 0 and row['contains_violin'] == 1 and row['contains_mridangam'] == 1:\n",
    "        return 6 #'Violin+Mridangam'\n",
    "    elif row['contains_voice'] == 1 and row['contains_violin'] == 1 and row['contains_mridangam'] == 1:\n",
    "        return 7 #'Vocal+Violin+Mridangam'\n",
    "\n",
    "# Apply the function to create a new column in metadata DataFrame\n",
    "metadata['contained_instruments'] = metadata.apply(determine_instrument, axis=1)\n",
    "\n",
    "# Read the features.csv file\n",
    "features = pd.read_csv('features.csv')\n",
    "\n",
    "# Merge metadata DataFrame with features DataFrame based on a common column (e.g., index)\n",
    "merged_df = pd.concat([features, metadata['contained_instruments']], axis=1)\n",
    "\n",
    "# Save the merged DataFrame to a new CSV file\n",
    "merged_df.to_csv('updated_features.csv', index=False)"
   ]
  },
  {
   "cell_type": "code",
   "execution_count": null,
   "id": "5ce96dc3-361c-4cf8-aafb-2bc8df37832b",
   "metadata": {},
   "outputs": [],
   "source": []
  }
 ],
 "metadata": {
  "kernelspec": {
   "display_name": "Python 3",
   "language": "python",
   "name": "python3"
  },
  "language_info": {
   "codemirror_mode": {
    "name": "ipython",
    "version": 3
   },
   "file_extension": ".py",
   "mimetype": "text/x-python",
   "name": "python",
   "nbconvert_exporter": "python",
   "pygments_lexer": "ipython3",
   "version": "3.8.8"
  }
 },
 "nbformat": 4,
 "nbformat_minor": 5
}
