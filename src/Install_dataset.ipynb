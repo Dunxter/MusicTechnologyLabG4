{
 "cells": [
  {
   "cell_type": "markdown",
   "id": "8191c973",
   "metadata": {},
   "source": [
    "# Instrument Classification in Carnatic Music (ICCM)\n",
    "Group 4 - Guillem Gauchia - Àlex Herrero - Gerard San Miguel- Roddie Mc Guinness"
   ]
  },
  {
   "cell_type": "markdown",
   "id": "0a72051b",
   "metadata": {},
   "source": [
    "# Download Data"
   ]
  },
  {
   "cell_type": "code",
   "execution_count": null,
   "id": "d5e4d864-f671-46d7-b964-a69fcf96c3a5",
   "metadata": {
    "id": "d5e4d864-f671-46d7-b964-a69fcf96c3a5",
    "outputId": "c21ee22f-883a-4b7d-9fc2-17d7ace8b3ed",
    "tags": []
   },
   "outputs": [
    {
     "name": "stdout",
     "output_type": "stream",
     "text": [
      "Collecting mirdata\n",
      "  Using cached mirdata-0.3.7-py3-none-any.whl (14.9 MB)\n",
      "Collecting pretty-midi>=0.2.8\n",
      "  Using cached pretty_midi-0.2.10.tar.gz (5.6 MB)\n",
      "  Preparing metadata (setup.py) ... \u001b[?25ldone\n",
      "\u001b[?25hCollecting tqdm\n",
      "  Using cached tqdm-4.65.0-py3-none-any.whl (77 kB)\n",
      "Collecting librosa>=0.8.0\n",
      "  Using cached librosa-0.10.0.post2-py3-none-any.whl (253 kB)\n",
      "Collecting pandas>=1.0.0\n",
      "  Using cached pandas-2.0.1-cp310-cp310-macosx_10_9_x86_64.whl (11.8 MB)\n",
      "Collecting chardet\n",
      "  Using cached chardet-5.1.0-py3-none-any.whl (199 kB)\n",
      "Requirement already satisfied: pyyaml in /Library/Frameworks/Python.framework/Versions/3.10/lib/python3.10/site-packages (from mirdata) (6.0)\n",
      "Collecting scipy\n",
      "  Using cached scipy-1.10.1-cp310-cp310-macosx_10_9_x86_64.whl (35.1 MB)\n",
      "Collecting h5py>=2.10.0\n",
      "  Using cached h5py-3.8.0-cp310-cp310-macosx_10_9_x86_64.whl (3.2 MB)\n",
      "Collecting smart-open>=5.0.0\n",
      "  Using cached smart_open-6.3.0-py3-none-any.whl (56 kB)\n",
      "Collecting numpy>=1.16\n",
      "  Using cached numpy-1.24.3-cp310-cp310-macosx_10_9_x86_64.whl (19.8 MB)\n",
      "Collecting jams\n",
      "  Using cached jams-0.3.4.tar.gz (51 kB)\n",
      "  Preparing metadata (setup.py) ... \u001b[?25ldone\n",
      "\u001b[?25hRequirement already satisfied: requests in /Library/Frameworks/Python.framework/Versions/3.10/lib/python3.10/site-packages (from mirdata) (2.29.0)\n",
      "Collecting Deprecated>=1.2.13\n",
      "  Using cached Deprecated-1.2.13-py2.py3-none-any.whl (9.6 kB)\n",
      "Collecting wrapt<2,>=1.10\n",
      "  Using cached wrapt-1.15.0-cp310-cp310-macosx_10_9_x86_64.whl (35 kB)\n",
      "Collecting pooch<1.7,>=1.0\n",
      "  Using cached pooch-1.6.0-py3-none-any.whl (56 kB)\n",
      "Collecting soxr>=0.3.2\n",
      "  Using cached soxr-0.3.5-cp310-cp310-macosx_10_9_x86_64.whl (404 kB)\n",
      "Collecting audioread>=2.1.9\n",
      "  Using cached audioread-3.0.0.tar.gz (377 kB)\n",
      "  Preparing metadata (setup.py) ... \u001b[?25ldone\n",
      "\u001b[?25hCollecting numba>=0.51.0\n",
      "  Downloading numba-0.57.0-cp310-cp310-macosx_10_9_x86_64.whl (2.5 MB)\n",
      "\u001b[2K     \u001b[90m━━━━━━━━━━━━━━━━━━━━━━━━━━━━━━━━━━━━━━━━\u001b[0m \u001b[32m2.5/2.5 MB\u001b[0m \u001b[31m14.9 MB/s\u001b[0m eta \u001b[36m0:00:00\u001b[0m00:01\u001b[0m00:01\u001b[0m\n",
      "\u001b[?25hCollecting scikit-learn>=0.20.0\n",
      "  Using cached scikit_learn-1.2.2-cp310-cp310-macosx_10_9_x86_64.whl (9.1 MB)\n",
      "Collecting lazy-loader>=0.1\n",
      "  Using cached lazy_loader-0.2-py3-none-any.whl (8.6 kB)\n",
      "Collecting soundfile>=0.12.1\n",
      "  Using cached soundfile-0.12.1-py2.py3-none-macosx_10_9_x86_64.whl (1.2 MB)\n",
      "Collecting joblib>=0.14\n",
      "  Using cached joblib-1.2.0-py3-none-any.whl (297 kB)\n",
      "Collecting typing-extensions>=4.1.1\n",
      "  Using cached typing_extensions-4.5.0-py3-none-any.whl (27 kB)\n",
      "Collecting msgpack>=1.0\n",
      "  Using cached msgpack-1.0.5-cp310-cp310-macosx_10_9_x86_64.whl (74 kB)\n",
      "Requirement already satisfied: decorator>=4.3.0 in /Library/Frameworks/Python.framework/Versions/3.10/lib/python3.10/site-packages (from librosa>=0.8.0->mirdata) (5.1.1)\n",
      "Requirement already satisfied: python-dateutil>=2.8.2 in /Library/Frameworks/Python.framework/Versions/3.10/lib/python3.10/site-packages (from pandas>=1.0.0->mirdata) (2.8.2)\n",
      "Collecting pytz>=2020.1\n",
      "  Using cached pytz-2023.3-py2.py3-none-any.whl (502 kB)\n",
      "Collecting tzdata>=2022.1\n",
      "  Using cached tzdata-2023.3-py2.py3-none-any.whl (341 kB)\n",
      "Collecting mido>=1.1.16\n",
      "  Using cached mido-1.2.10-py2.py3-none-any.whl (51 kB)\n",
      "Requirement already satisfied: six in /Library/Frameworks/Python.framework/Versions/3.10/lib/python3.10/site-packages (from pretty-midi>=0.2.8->mirdata) (1.16.0)\n",
      "Collecting sortedcontainers>=2.0.0\n",
      "  Using cached sortedcontainers-2.4.0-py2.py3-none-any.whl (29 kB)\n",
      "Requirement already satisfied: jsonschema>=3.0.0 in /Library/Frameworks/Python.framework/Versions/3.10/lib/python3.10/site-packages (from jams->mirdata) (4.17.3)\n",
      "Collecting mir_eval>=0.5\n",
      "  Using cached mir_eval-0.7.tar.gz (90 kB)\n",
      "  Preparing metadata (setup.py) ... \u001b[?25ldone\n",
      "\u001b[?25hRequirement already satisfied: urllib3<1.27,>=1.21.1 in /Library/Frameworks/Python.framework/Versions/3.10/lib/python3.10/site-packages (from requests->mirdata) (1.26.15)\n",
      "Requirement already satisfied: idna<4,>=2.5 in /Library/Frameworks/Python.framework/Versions/3.10/lib/python3.10/site-packages (from requests->mirdata) (3.4)\n",
      "Requirement already satisfied: charset-normalizer<4,>=2 in /Library/Frameworks/Python.framework/Versions/3.10/lib/python3.10/site-packages (from requests->mirdata) (3.1.0)\n",
      "Requirement already satisfied: certifi>=2017.4.17 in /Library/Frameworks/Python.framework/Versions/3.10/lib/python3.10/site-packages (from requests->mirdata) (2022.12.7)\n",
      "Requirement already satisfied: pyrsistent!=0.17.0,!=0.17.1,!=0.17.2,>=0.14.0 in /Library/Frameworks/Python.framework/Versions/3.10/lib/python3.10/site-packages (from jsonschema>=3.0.0->jams->mirdata) (0.19.3)\n",
      "Requirement already satisfied: attrs>=17.4.0 in /Library/Frameworks/Python.framework/Versions/3.10/lib/python3.10/site-packages (from jsonschema>=3.0.0->jams->mirdata) (23.1.0)\n",
      "Collecting future\n",
      "  Using cached future-0.18.3.tar.gz (840 kB)\n",
      "  Preparing metadata (setup.py) ... \u001b[?25ldone\n",
      "\u001b[?25hCollecting llvmlite<0.41,>=0.40.0dev0\n",
      "  Downloading llvmlite-0.40.0-cp310-cp310-macosx_10_9_x86_64.whl (30.4 MB)\n",
      "\u001b[2K     \u001b[90m━━━━━━━━━━━━━━━━━━━━━━━━━━━━━━━━━━━━━━━━\u001b[0m \u001b[32m30.4/30.4 MB\u001b[0m \u001b[31m31.9 MB/s\u001b[0m eta \u001b[36m0:00:00\u001b[0m00:01\u001b[0m00:01\u001b[0m\n",
      "\u001b[?25hRequirement already satisfied: packaging>=20.0 in /Library/Frameworks/Python.framework/Versions/3.10/lib/python3.10/site-packages (from pooch<1.7,>=1.0->librosa>=0.8.0->mirdata) (23.1)\n",
      "Collecting appdirs>=1.3.0\n",
      "  Using cached appdirs-1.4.4-py2.py3-none-any.whl (9.6 kB)\n",
      "Collecting threadpoolctl>=2.0.0\n",
      "  Using cached threadpoolctl-3.1.0-py3-none-any.whl (14 kB)\n",
      "Requirement already satisfied: cffi>=1.0 in /Library/Frameworks/Python.framework/Versions/3.10/lib/python3.10/site-packages (from soundfile>=0.12.1->librosa>=0.8.0->mirdata) (1.15.1)\n",
      "Requirement already satisfied: pycparser in /Library/Frameworks/Python.framework/Versions/3.10/lib/python3.10/site-packages (from cffi>=1.0->soundfile>=0.12.1->librosa>=0.8.0->mirdata) (2.21)\n",
      "Using legacy 'setup.py install' for pretty-midi, since package 'wheel' is not installed.\n",
      "Using legacy 'setup.py install' for jams, since package 'wheel' is not installed.\n",
      "Using legacy 'setup.py install' for audioread, since package 'wheel' is not installed.\n",
      "Using legacy 'setup.py install' for mir_eval, since package 'wheel' is not installed.\n",
      "Using legacy 'setup.py install' for future, since package 'wheel' is not installed.\n",
      "Installing collected packages: sortedcontainers, pytz, msgpack, mido, appdirs, wrapt, tzdata, typing-extensions, tqdm, threadpoolctl, smart-open, numpy, llvmlite, lazy-loader, joblib, future, chardet, audioread, soxr, soundfile, scipy, pretty-midi, pooch, pandas, numba, h5py, Deprecated, scikit-learn, mir_eval, librosa, jams, mirdata\n",
      "  Running setup.py install for future ... \u001b[?25ldone\n",
      "\u001b[?25h  Running setup.py install for audioread ... \u001b[?25ldone\n",
      "\u001b[?25h  Running setup.py install for pretty-midi ... \u001b[?25ldone\n",
      "\u001b[?25h  Running setup.py install for mir_eval ... \u001b[?25ldone\n",
      "\u001b[?25h  Running setup.py install for jams ... \u001b[?25ldone\n",
      "\u001b[?25hSuccessfully installed Deprecated-1.2.13 appdirs-1.4.4 audioread-3.0.0 chardet-5.1.0 future-0.18.3 h5py-3.8.0 jams-0.3.4 joblib-1.2.0 lazy-loader-0.2 librosa-0.10.0.post2 llvmlite-0.40.0 mido-1.2.10 mir_eval-0.7 mirdata-0.3.7 msgpack-1.0.5 numba-0.57.0 numpy-1.24.3 pandas-2.0.1 pooch-1.6.0 pretty-midi-0.2.10 pytz-2023.3 scikit-learn-1.2.2 scipy-1.10.1 smart-open-6.3.0 sortedcontainers-2.4.0 soundfile-0.12.1 soxr-0.3.5 threadpoolctl-3.1.0 tqdm-4.65.0 typing-extensions-4.5.0 tzdata-2023.3 wrapt-1.15.0\n",
      "\n",
      "\u001b[1m[\u001b[0m\u001b[34;49mnotice\u001b[0m\u001b[1;39;49m]\u001b[0m\u001b[39;49m A new release of pip available: \u001b[0m\u001b[31;49m22.2.2\u001b[0m\u001b[39;49m -> \u001b[0m\u001b[32;49m23.1.2\u001b[0m\n",
      "\u001b[1m[\u001b[0m\u001b[34;49mnotice\u001b[0m\u001b[1;39;49m]\u001b[0m\u001b[39;49m To update, run: \u001b[0m\u001b[32;49mpython3 -m pip install --upgrade pip\u001b[0m\n",
      "Note: you may need to restart the kernel to use updated packages.\n"
     ]
    }
   ],
   "source": [
    "pip install mirdata"
   ]
  },
  {
   "cell_type": "code",
   "execution_count": null,
   "id": "aa94110c-c037-4fea-a4cf-302db366c663",
   "metadata": {
    "id": "aa94110c-c037-4fea-a4cf-302db366c663",
    "tags": []
   },
   "outputs": [],
   "source": [
    "import mirdata\n",
    "orchset = mirdata.initialize('saraga_carnatic')"
   ]
  },
  {
   "cell_type": "code",
   "execution_count": null,
   "id": "4bf7741d-8410-43be-a54a-1ea31ab6a8b2",
   "metadata": {
    "id": "4bf7741d-8410-43be-a54a-1ea31ab6a8b2",
    "outputId": "1f2ef3d8-6d0b-4a97-a114-170963ed4cec",
    "tags": []
   },
   "outputs": [
    {
     "name": "stderr",
     "output_type": "stream",
     "text": [
      "INFO: Downloading ['all'] to /Users/alex/mir_datasets/saraga_carnatic\n",
      "INFO: [all] downloading saraga1.5_carnatic.zip\n",
      "13.4GB [2:52:25, 1.39MB/s]                                                      \n",
      "100%|█████████████████████████████████████████| 249/249 [00:45<00:00,  5.49it/s]\n",
      "INFO: Success: the dataset is complete and all files are valid.\n",
      "INFO: --------------------\n"
     ]
    },
    {
     "data": {
      "text/plain": [
       "({'tracks': {}}, {'tracks': {}})"
      ]
     },
     "execution_count": 7,
     "metadata": {},
     "output_type": "execute_result"
    }
   ],
   "source": [
    "orchset.download()\n",
    "orchset.validate()  # validate that all the expected files are there"
   ]
  }
 ],
 "metadata": {
  "colab": {
   "provenance": []
  },
  "kernelspec": {
   "display_name": "Python 3",
   "language": "python",
   "name": "python3"
  },
  "language_info": {
   "codemirror_mode": {
    "name": "ipython",
    "version": 3
   },
   "file_extension": ".py",
   "mimetype": "text/x-python",
   "name": "python",
   "nbconvert_exporter": "python",
   "pygments_lexer": "ipython3",
   "version": "3.8.8"
  }
 },
 "nbformat": 4,
 "nbformat_minor": 5
}
