{
 "cells": [
  {
   "cell_type": "markdown",
   "metadata": {},
   "source": [
    "# Instrument Classification in Carnatic Music (ICCM)\n",
    "Group 4 - Guillem Gauchia - Àlex Herrero - Gerard San Miguel- Roddie Mc Guinness"
   ]
  },
  {
   "cell_type": "markdown",
   "metadata": {},
   "source": [
    "# MODELLING"
   ]
  },
  {
   "cell_type": "markdown",
   "metadata": {},
   "source": [
    "### Import libraries"
   ]
  },
  {
   "cell_type": "code",
   "execution_count": 1,
   "metadata": {
    "id": "D4YNFiwL_qeR",
    "scrolled": false
   },
   "outputs": [],
   "source": [
    "from random import randint\n",
    "import pandas as pd\n",
    "import numpy as np\n",
    "from sklearn.model_selection import train_test_split"
   ]
  },
  {
   "cell_type": "markdown",
   "metadata": {},
   "source": [
    "#### In case you are working from Google Colab"
   ]
  },
  {
   "cell_type": "code",
   "execution_count": null,
   "metadata": {
    "colab": {
     "base_uri": "https://localhost:8080/"
    },
    "id": "SIym0-g8BAuW",
    "outputId": "b89683b5-e20f-44ce-eece-509157aae7ef",
    "scrolled": false
   },
   "outputs": [],
   "source": [
    "from google.colab import drive\n",
    "drive.mount(\"/content/drive/\")"
   ]
  },
  {
   "cell_type": "markdown",
   "metadata": {},
   "source": [
    "#### In case you are working locally"
   ]
  },
  {
   "cell_type": "code",
   "execution_count": 4,
   "metadata": {
    "scrolled": false
   },
   "outputs": [
    {
     "name": "stdout",
     "output_type": "stream",
     "text": [
      "C:\\Users\\Alex\\Desktop\\MTL\\Modelling\n"
     ]
    }
   ],
   "source": [
    "## ADD THE PATH TO THE FOLDER CONTAINING features.csv and metadata.csv\n",
    "%cd /Users/Alex/Desktop/MTL/Modelling"
   ]
  },
  {
   "cell_type": "markdown",
   "metadata": {},
   "source": [
    "### Read and check metadata and features "
   ]
  },
  {
   "cell_type": "code",
   "execution_count": 5,
   "metadata": {
    "id": "n3t6MzQpBBD4",
    "scrolled": false
   },
   "outputs": [],
   "source": [
    "features = pd.read_csv(\"updated_features.csv\")\n",
    "metadata = pd.read_csv(\"metadata-binary.csv\")\n",
    "\n",
    "column_length = np.shape(features)[0]\n",
    "row_length = np.shape(features)[1]"
   ]
  },
  {
   "cell_type": "code",
   "execution_count": 6,
   "metadata": {
    "colab": {
     "base_uri": "https://localhost:8080/",
     "height": 352
    },
    "id": "e5L2FBoGD4-v",
    "outputId": "e7a85418-e99c-4d18-d811-367d1d977676",
    "scrolled": false
   },
   "outputs": [
    {
     "name": "stdout",
     "output_type": "stream",
     "text": [
      "307869 46\n",
      "(307869, 7)\n"
     ]
    },
    {
     "data": {
      "text/html": [
       "<div>\n",
       "<style scoped>\n",
       "    .dataframe tbody tr th:only-of-type {\n",
       "        vertical-align: middle;\n",
       "    }\n",
       "\n",
       "    .dataframe tbody tr th {\n",
       "        vertical-align: top;\n",
       "    }\n",
       "\n",
       "    .dataframe thead th {\n",
       "        text-align: right;\n",
       "    }\n",
       "</style>\n",
       "<table border=\"1\" class=\"dataframe\">\n",
       "  <thead>\n",
       "    <tr style=\"text-align: right;\">\n",
       "      <th></th>\n",
       "      <th>Unnamed: 0</th>\n",
       "      <th>BER</th>\n",
       "      <th>Amp_Env_Max</th>\n",
       "      <th>Amp_Env_Min</th>\n",
       "      <th>Amp_Env_Mean</th>\n",
       "      <th>Amp_Env_Var</th>\n",
       "      <th>RMSE_Max</th>\n",
       "      <th>RMSE_Min</th>\n",
       "      <th>RMSE_Mean</th>\n",
       "      <th>ZCR_Max</th>\n",
       "      <th>...</th>\n",
       "      <th>MFCC_11</th>\n",
       "      <th>MFCC_12</th>\n",
       "      <th>MFCC_13</th>\n",
       "      <th>MFCC_14</th>\n",
       "      <th>MFCC_15</th>\n",
       "      <th>MFCC_16</th>\n",
       "      <th>MFCC_17</th>\n",
       "      <th>MFCC_18</th>\n",
       "      <th>MFCC_19</th>\n",
       "      <th>contained_instruments</th>\n",
       "    </tr>\n",
       "  </thead>\n",
       "  <tbody>\n",
       "    <tr>\n",
       "      <th>0</th>\n",
       "      <td>0</td>\n",
       "      <td>0.006061</td>\n",
       "      <td>0.281342</td>\n",
       "      <td>-0.090302</td>\n",
       "      <td>0.088227</td>\n",
       "      <td>0.007371</td>\n",
       "      <td>0.094870</td>\n",
       "      <td>0.051239</td>\n",
       "      <td>0.079648</td>\n",
       "      <td>0.075195</td>\n",
       "      <td>...</td>\n",
       "      <td>-262.741943</td>\n",
       "      <td>-211.880508</td>\n",
       "      <td>-176.290405</td>\n",
       "      <td>-194.258514</td>\n",
       "      <td>-229.249542</td>\n",
       "      <td>-242.852890</td>\n",
       "      <td>-261.000397</td>\n",
       "      <td>-293.160492</td>\n",
       "      <td>-312.861084</td>\n",
       "      <td>0</td>\n",
       "    </tr>\n",
       "    <tr>\n",
       "      <th>1</th>\n",
       "      <td>1</td>\n",
       "      <td>0.004512</td>\n",
       "      <td>0.280975</td>\n",
       "      <td>-0.132568</td>\n",
       "      <td>0.082936</td>\n",
       "      <td>0.005619</td>\n",
       "      <td>0.128871</td>\n",
       "      <td>0.059394</td>\n",
       "      <td>0.091771</td>\n",
       "      <td>0.058594</td>\n",
       "      <td>...</td>\n",
       "      <td>-231.262589</td>\n",
       "      <td>-241.532547</td>\n",
       "      <td>-235.469528</td>\n",
       "      <td>-229.440659</td>\n",
       "      <td>-228.119797</td>\n",
       "      <td>-230.106400</td>\n",
       "      <td>-230.142685</td>\n",
       "      <td>-236.071014</td>\n",
       "      <td>-244.865799</td>\n",
       "      <td>0</td>\n",
       "    </tr>\n",
       "    <tr>\n",
       "      <th>2</th>\n",
       "      <td>2</td>\n",
       "      <td>0.006468</td>\n",
       "      <td>0.139526</td>\n",
       "      <td>-0.053772</td>\n",
       "      <td>0.023949</td>\n",
       "      <td>0.001886</td>\n",
       "      <td>0.049900</td>\n",
       "      <td>0.031766</td>\n",
       "      <td>0.040711</td>\n",
       "      <td>0.053711</td>\n",
       "      <td>...</td>\n",
       "      <td>-311.401917</td>\n",
       "      <td>-310.222076</td>\n",
       "      <td>-306.932281</td>\n",
       "      <td>-307.787811</td>\n",
       "      <td>-307.819183</td>\n",
       "      <td>-304.487000</td>\n",
       "      <td>-304.433472</td>\n",
       "      <td>-303.542938</td>\n",
       "      <td>-303.353119</td>\n",
       "      <td>0</td>\n",
       "    </tr>\n",
       "    <tr>\n",
       "      <th>3</th>\n",
       "      <td>3</td>\n",
       "      <td>0.004367</td>\n",
       "      <td>0.641907</td>\n",
       "      <td>-0.415527</td>\n",
       "      <td>0.026033</td>\n",
       "      <td>0.016076</td>\n",
       "      <td>0.267904</td>\n",
       "      <td>0.015638</td>\n",
       "      <td>0.084500</td>\n",
       "      <td>0.037109</td>\n",
       "      <td>...</td>\n",
       "      <td>-387.289673</td>\n",
       "      <td>-382.094452</td>\n",
       "      <td>-383.803253</td>\n",
       "      <td>-292.073730</td>\n",
       "      <td>-185.873642</td>\n",
       "      <td>-181.555313</td>\n",
       "      <td>-229.269836</td>\n",
       "      <td>-256.295532</td>\n",
       "      <td>-273.903198</td>\n",
       "      <td>0</td>\n",
       "    </tr>\n",
       "    <tr>\n",
       "      <th>4</th>\n",
       "      <td>4</td>\n",
       "      <td>0.005356</td>\n",
       "      <td>0.414856</td>\n",
       "      <td>-0.205414</td>\n",
       "      <td>0.079291</td>\n",
       "      <td>0.010331</td>\n",
       "      <td>0.185070</td>\n",
       "      <td>0.070489</td>\n",
       "      <td>0.115049</td>\n",
       "      <td>0.028320</td>\n",
       "      <td>...</td>\n",
       "      <td>-274.246246</td>\n",
       "      <td>-265.589081</td>\n",
       "      <td>-262.506378</td>\n",
       "      <td>-258.595947</td>\n",
       "      <td>-245.133835</td>\n",
       "      <td>-234.815170</td>\n",
       "      <td>-238.894470</td>\n",
       "      <td>-247.143768</td>\n",
       "      <td>-263.482269</td>\n",
       "      <td>0</td>\n",
       "    </tr>\n",
       "  </tbody>\n",
       "</table>\n",
       "<p>5 rows × 46 columns</p>\n",
       "</div>"
      ],
      "text/plain": [
       "   Unnamed: 0       BER  Amp_Env_Max  Amp_Env_Min  Amp_Env_Mean  Amp_Env_Var  \\\n",
       "0           0  0.006061     0.281342    -0.090302      0.088227     0.007371   \n",
       "1           1  0.004512     0.280975    -0.132568      0.082936     0.005619   \n",
       "2           2  0.006468     0.139526    -0.053772      0.023949     0.001886   \n",
       "3           3  0.004367     0.641907    -0.415527      0.026033     0.016076   \n",
       "4           4  0.005356     0.414856    -0.205414      0.079291     0.010331   \n",
       "\n",
       "   RMSE_Max  RMSE_Min  RMSE_Mean   ZCR_Max  ...     MFCC_11     MFCC_12  \\\n",
       "0  0.094870  0.051239   0.079648  0.075195  ... -262.741943 -211.880508   \n",
       "1  0.128871  0.059394   0.091771  0.058594  ... -231.262589 -241.532547   \n",
       "2  0.049900  0.031766   0.040711  0.053711  ... -311.401917 -310.222076   \n",
       "3  0.267904  0.015638   0.084500  0.037109  ... -387.289673 -382.094452   \n",
       "4  0.185070  0.070489   0.115049  0.028320  ... -274.246246 -265.589081   \n",
       "\n",
       "      MFCC_13     MFCC_14     MFCC_15     MFCC_16     MFCC_17     MFCC_18  \\\n",
       "0 -176.290405 -194.258514 -229.249542 -242.852890 -261.000397 -293.160492   \n",
       "1 -235.469528 -229.440659 -228.119797 -230.106400 -230.142685 -236.071014   \n",
       "2 -306.932281 -307.787811 -307.819183 -304.487000 -304.433472 -303.542938   \n",
       "3 -383.803253 -292.073730 -185.873642 -181.555313 -229.269836 -256.295532   \n",
       "4 -262.506378 -258.595947 -245.133835 -234.815170 -238.894470 -247.143768   \n",
       "\n",
       "      MFCC_19  contained_instruments  \n",
       "0 -312.861084                      0  \n",
       "1 -244.865799                      0  \n",
       "2 -303.353119                      0  \n",
       "3 -273.903198                      0  \n",
       "4 -263.482269                      0  \n",
       "\n",
       "[5 rows x 46 columns]"
      ]
     },
     "execution_count": 6,
     "metadata": {},
     "output_type": "execute_result"
    }
   ],
   "source": [
    "print(column_length, row_length)\n",
    "print(np.shape(metadata))\n",
    "\n",
    "features.head()\n"
   ]
  },
  {
   "cell_type": "code",
   "execution_count": 7,
   "metadata": {},
   "outputs": [
    {
     "data": {
      "text/html": [
       "<div>\n",
       "<style scoped>\n",
       "    .dataframe tbody tr th:only-of-type {\n",
       "        vertical-align: middle;\n",
       "    }\n",
       "\n",
       "    .dataframe tbody tr th {\n",
       "        vertical-align: top;\n",
       "    }\n",
       "\n",
       "    .dataframe thead th {\n",
       "        text-align: right;\n",
       "    }\n",
       "</style>\n",
       "<table border=\"1\" class=\"dataframe\">\n",
       "  <thead>\n",
       "    <tr style=\"text-align: right;\">\n",
       "      <th></th>\n",
       "      <th>chunk_id</th>\n",
       "      <th>track_id</th>\n",
       "      <th>time_stamp</th>\n",
       "      <th>performance</th>\n",
       "      <th>contains_voice</th>\n",
       "      <th>contains_violin</th>\n",
       "      <th>contains_mridangam</th>\n",
       "    </tr>\n",
       "  </thead>\n",
       "  <tbody>\n",
       "    <tr>\n",
       "      <th>0</th>\n",
       "      <td>0</td>\n",
       "      <td>0_Dorakuna</td>\n",
       "      <td>0.25</td>\n",
       "      <td>Dorakuna</td>\n",
       "      <td>0</td>\n",
       "      <td>0</td>\n",
       "      <td>0</td>\n",
       "    </tr>\n",
       "    <tr>\n",
       "      <th>1</th>\n",
       "      <td>1</td>\n",
       "      <td>0_Dorakuna</td>\n",
       "      <td>0.50</td>\n",
       "      <td>Dorakuna</td>\n",
       "      <td>0</td>\n",
       "      <td>0</td>\n",
       "      <td>0</td>\n",
       "    </tr>\n",
       "    <tr>\n",
       "      <th>2</th>\n",
       "      <td>2</td>\n",
       "      <td>0_Dorakuna</td>\n",
       "      <td>0.75</td>\n",
       "      <td>Dorakuna</td>\n",
       "      <td>0</td>\n",
       "      <td>0</td>\n",
       "      <td>0</td>\n",
       "    </tr>\n",
       "    <tr>\n",
       "      <th>3</th>\n",
       "      <td>3</td>\n",
       "      <td>0_Dorakuna</td>\n",
       "      <td>1.00</td>\n",
       "      <td>Dorakuna</td>\n",
       "      <td>0</td>\n",
       "      <td>0</td>\n",
       "      <td>0</td>\n",
       "    </tr>\n",
       "    <tr>\n",
       "      <th>4</th>\n",
       "      <td>4</td>\n",
       "      <td>0_Dorakuna</td>\n",
       "      <td>1.25</td>\n",
       "      <td>Dorakuna</td>\n",
       "      <td>0</td>\n",
       "      <td>0</td>\n",
       "      <td>0</td>\n",
       "    </tr>\n",
       "  </tbody>\n",
       "</table>\n",
       "</div>"
      ],
      "text/plain": [
       "   chunk_id    track_id  time_stamp performance  contains_voice  \\\n",
       "0         0  0_Dorakuna        0.25    Dorakuna               0   \n",
       "1         1  0_Dorakuna        0.50    Dorakuna               0   \n",
       "2         2  0_Dorakuna        0.75    Dorakuna               0   \n",
       "3         3  0_Dorakuna        1.00    Dorakuna               0   \n",
       "4         4  0_Dorakuna        1.25    Dorakuna               0   \n",
       "\n",
       "   contains_violin  contains_mridangam  \n",
       "0                0                   0  \n",
       "1                0                   0  \n",
       "2                0                   0  \n",
       "3                0                   0  \n",
       "4                0                   0  "
      ]
     },
     "execution_count": 7,
     "metadata": {},
     "output_type": "execute_result"
    }
   ],
   "source": [
    "metadata.head()"
   ]
  },
  {
   "cell_type": "markdown",
   "metadata": {},
   "source": [
    "### Split data equally for three different models"
   ]
  },
  {
   "cell_type": "code",
   "execution_count": 8,
   "metadata": {
    "id": "I6FL_3WXVf5m",
    "scrolled": false
   },
   "outputs": [],
   "source": [
    "X, X_holdout, y_voice, y_holdout = train_test_split(features,\n",
    "                                   metadata['contains_voice'],\n",
    "                                   random_state=104,\n",
    "                                   test_size=0.2,\n",
    "                                   shuffle=True)\n",
    "\n",
    "X, X_holdout, y_violin, y_holdout = train_test_split(features,\n",
    "                                   metadata['contains_violin'],\n",
    "                                   random_state=104,\n",
    "                                   test_size=0.2,\n",
    "                                   shuffle=True)\n",
    "\n",
    "X, X_holdout, y_mridangam, y_holdout = train_test_split(features,\n",
    "                                   metadata['contains_mridangam'],\n",
    "                                   random_state=104,\n",
    "                                   test_size=0.2,\n",
    "                                   shuffle=True)"
   ]
  },
  {
   "cell_type": "code",
   "execution_count": 9,
   "metadata": {
    "id": "p5W9IWl5BRpJ",
    "scrolled": false
   },
   "outputs": [],
   "source": [
    "done = []\n",
    "target = [0,0,0,0,0,0,0,0]"
   ]
  },
  {
   "cell_type": "code",
   "execution_count": 10,
   "metadata": {
    "colab": {
     "base_uri": "https://localhost:8080/",
     "height": 334
    },
    "id": "uDP7ay-wjMvV",
    "outputId": "ea0bd103-53c5-4d06-a6f1-3f6717e8c2a7",
    "scrolled": true
   },
   "outputs": [
    {
     "name": "stdout",
     "output_type": "stream",
     "text": [
      "(246295, 46)\n"
     ]
    },
    {
     "data": {
      "text/html": [
       "<div>\n",
       "<style scoped>\n",
       "    .dataframe tbody tr th:only-of-type {\n",
       "        vertical-align: middle;\n",
       "    }\n",
       "\n",
       "    .dataframe tbody tr th {\n",
       "        vertical-align: top;\n",
       "    }\n",
       "\n",
       "    .dataframe thead th {\n",
       "        text-align: right;\n",
       "    }\n",
       "</style>\n",
       "<table border=\"1\" class=\"dataframe\">\n",
       "  <thead>\n",
       "    <tr style=\"text-align: right;\">\n",
       "      <th></th>\n",
       "      <th>Unnamed: 0</th>\n",
       "      <th>BER</th>\n",
       "      <th>Amp_Env_Max</th>\n",
       "      <th>Amp_Env_Min</th>\n",
       "      <th>Amp_Env_Mean</th>\n",
       "      <th>Amp_Env_Var</th>\n",
       "      <th>RMSE_Max</th>\n",
       "      <th>RMSE_Min</th>\n",
       "      <th>RMSE_Mean</th>\n",
       "      <th>ZCR_Max</th>\n",
       "      <th>...</th>\n",
       "      <th>MFCC_11</th>\n",
       "      <th>MFCC_12</th>\n",
       "      <th>MFCC_13</th>\n",
       "      <th>MFCC_14</th>\n",
       "      <th>MFCC_15</th>\n",
       "      <th>MFCC_16</th>\n",
       "      <th>MFCC_17</th>\n",
       "      <th>MFCC_18</th>\n",
       "      <th>MFCC_19</th>\n",
       "      <th>contained_instruments</th>\n",
       "    </tr>\n",
       "  </thead>\n",
       "  <tbody>\n",
       "    <tr>\n",
       "      <th>121795</th>\n",
       "      <td>121795</td>\n",
       "      <td>0.007606</td>\n",
       "      <td>0.387268</td>\n",
       "      <td>-0.217255</td>\n",
       "      <td>0.087605</td>\n",
       "      <td>0.006364</td>\n",
       "      <td>0.137497</td>\n",
       "      <td>0.051176</td>\n",
       "      <td>0.094753</td>\n",
       "      <td>0.063477</td>\n",
       "      <td>...</td>\n",
       "      <td>-205.957489</td>\n",
       "      <td>-213.910767</td>\n",
       "      <td>-216.751511</td>\n",
       "      <td>-220.390564</td>\n",
       "      <td>-223.834061</td>\n",
       "      <td>-230.571365</td>\n",
       "      <td>-236.064865</td>\n",
       "      <td>-240.327072</td>\n",
       "      <td>-247.379898</td>\n",
       "      <td>7</td>\n",
       "    </tr>\n",
       "    <tr>\n",
       "      <th>274445</th>\n",
       "      <td>274445</td>\n",
       "      <td>0.001780</td>\n",
       "      <td>0.054016</td>\n",
       "      <td>-0.007477</td>\n",
       "      <td>0.019107</td>\n",
       "      <td>0.000161</td>\n",
       "      <td>0.020193</td>\n",
       "      <td>0.004705</td>\n",
       "      <td>0.013592</td>\n",
       "      <td>0.128906</td>\n",
       "      <td>...</td>\n",
       "      <td>-371.932709</td>\n",
       "      <td>-365.175598</td>\n",
       "      <td>-356.296539</td>\n",
       "      <td>-353.812042</td>\n",
       "      <td>-353.498871</td>\n",
       "      <td>-354.605530</td>\n",
       "      <td>-360.347839</td>\n",
       "      <td>-364.080933</td>\n",
       "      <td>-370.222626</td>\n",
       "      <td>7</td>\n",
       "    </tr>\n",
       "    <tr>\n",
       "      <th>147010</th>\n",
       "      <td>147010</td>\n",
       "      <td>0.007379</td>\n",
       "      <td>0.556610</td>\n",
       "      <td>-0.457825</td>\n",
       "      <td>0.155386</td>\n",
       "      <td>0.031847</td>\n",
       "      <td>0.256646</td>\n",
       "      <td>0.135241</td>\n",
       "      <td>0.197436</td>\n",
       "      <td>0.059082</td>\n",
       "      <td>...</td>\n",
       "      <td>-179.435150</td>\n",
       "      <td>-183.617859</td>\n",
       "      <td>-188.447281</td>\n",
       "      <td>-188.508560</td>\n",
       "      <td>-190.418365</td>\n",
       "      <td>-184.457260</td>\n",
       "      <td>-171.747681</td>\n",
       "      <td>-161.581635</td>\n",
       "      <td>-156.786789</td>\n",
       "      <td>7</td>\n",
       "    </tr>\n",
       "    <tr>\n",
       "      <th>94829</th>\n",
       "      <td>94829</td>\n",
       "      <td>0.001955</td>\n",
       "      <td>0.872589</td>\n",
       "      <td>-0.741028</td>\n",
       "      <td>0.091140</td>\n",
       "      <td>0.038084</td>\n",
       "      <td>0.398812</td>\n",
       "      <td>0.053455</td>\n",
       "      <td>0.168657</td>\n",
       "      <td>0.065918</td>\n",
       "      <td>...</td>\n",
       "      <td>-209.277237</td>\n",
       "      <td>-214.402161</td>\n",
       "      <td>-216.554276</td>\n",
       "      <td>-213.663116</td>\n",
       "      <td>-206.398697</td>\n",
       "      <td>-200.712967</td>\n",
       "      <td>-201.726120</td>\n",
       "      <td>-200.513016</td>\n",
       "      <td>-200.009842</td>\n",
       "      <td>7</td>\n",
       "    </tr>\n",
       "    <tr>\n",
       "      <th>206260</th>\n",
       "      <td>206260</td>\n",
       "      <td>0.027287</td>\n",
       "      <td>0.413269</td>\n",
       "      <td>-0.242920</td>\n",
       "      <td>0.058384</td>\n",
       "      <td>0.007512</td>\n",
       "      <td>0.164167</td>\n",
       "      <td>0.049059</td>\n",
       "      <td>0.095263</td>\n",
       "      <td>0.031250</td>\n",
       "      <td>...</td>\n",
       "      <td>-295.485535</td>\n",
       "      <td>-298.509460</td>\n",
       "      <td>-306.742493</td>\n",
       "      <td>-312.631378</td>\n",
       "      <td>-312.983948</td>\n",
       "      <td>-316.473816</td>\n",
       "      <td>-318.483032</td>\n",
       "      <td>-326.753448</td>\n",
       "      <td>-338.614532</td>\n",
       "      <td>1</td>\n",
       "    </tr>\n",
       "  </tbody>\n",
       "</table>\n",
       "<p>5 rows × 46 columns</p>\n",
       "</div>"
      ],
      "text/plain": [
       "        Unnamed: 0       BER  Amp_Env_Max  Amp_Env_Min  Amp_Env_Mean  \\\n",
       "121795      121795  0.007606     0.387268    -0.217255      0.087605   \n",
       "274445      274445  0.001780     0.054016    -0.007477      0.019107   \n",
       "147010      147010  0.007379     0.556610    -0.457825      0.155386   \n",
       "94829        94829  0.001955     0.872589    -0.741028      0.091140   \n",
       "206260      206260  0.027287     0.413269    -0.242920      0.058384   \n",
       "\n",
       "        Amp_Env_Var  RMSE_Max  RMSE_Min  RMSE_Mean   ZCR_Max  ...     MFCC_11  \\\n",
       "121795     0.006364  0.137497  0.051176   0.094753  0.063477  ... -205.957489   \n",
       "274445     0.000161  0.020193  0.004705   0.013592  0.128906  ... -371.932709   \n",
       "147010     0.031847  0.256646  0.135241   0.197436  0.059082  ... -179.435150   \n",
       "94829      0.038084  0.398812  0.053455   0.168657  0.065918  ... -209.277237   \n",
       "206260     0.007512  0.164167  0.049059   0.095263  0.031250  ... -295.485535   \n",
       "\n",
       "           MFCC_12     MFCC_13     MFCC_14     MFCC_15     MFCC_16  \\\n",
       "121795 -213.910767 -216.751511 -220.390564 -223.834061 -230.571365   \n",
       "274445 -365.175598 -356.296539 -353.812042 -353.498871 -354.605530   \n",
       "147010 -183.617859 -188.447281 -188.508560 -190.418365 -184.457260   \n",
       "94829  -214.402161 -216.554276 -213.663116 -206.398697 -200.712967   \n",
       "206260 -298.509460 -306.742493 -312.631378 -312.983948 -316.473816   \n",
       "\n",
       "           MFCC_17     MFCC_18     MFCC_19  contained_instruments  \n",
       "121795 -236.064865 -240.327072 -247.379898                      7  \n",
       "274445 -360.347839 -364.080933 -370.222626                      7  \n",
       "147010 -171.747681 -161.581635 -156.786789                      7  \n",
       "94829  -201.726120 -200.513016 -200.009842                      7  \n",
       "206260 -318.483032 -326.753448 -338.614532                      1  \n",
       "\n",
       "[5 rows x 46 columns]"
      ]
     },
     "execution_count": 10,
     "metadata": {},
     "output_type": "execute_result"
    }
   ],
   "source": [
    "print(np.shape(X))\n",
    "X_dummy = X\n",
    "X_dummy.head()"
   ]
  },
  {
   "cell_type": "code",
   "execution_count": 11,
   "metadata": {},
   "outputs": [],
   "source": [
    "#y_mridangam = y_mridangam.values\n",
    "y_voice = y_voice.to_numpy()\n",
    "y_violin = y_violin.to_numpy()\n",
    "y_mridangam = y_mridangam.to_numpy()"
   ]
  },
  {
   "cell_type": "code",
   "execution_count": 12,
   "metadata": {
    "colab": {
     "base_uri": "https://localhost:8080/"
    },
    "id": "TO2L0lgMcS7m",
    "outputId": "95f4e010-0a3e-497d-a9e1-07c9603effca",
    "scrolled": false
   },
   "outputs": [
    {
     "name": "stdout",
     "output_type": "stream",
     "text": [
      "Sample Distribution: \n",
      "[4000, 4000, 4000, 2583, 4000, 4000, 4000, 4000]\n"
     ]
    }
   ],
   "source": [
    "X_dummy = X.values\n",
    "X_dummy = X.drop(columns = ['Unnamed: 0'])\n",
    "\n",
    "done = []\n",
    "target = [0, 0, 0, 0, 0, 0, 0, 0]\n",
    "\n",
    "X_dummy = X_dummy.to_numpy()\n",
    "\n",
    "index = []\n",
    "num_samples = 246290\n",
    "max_train_target = 12000\n",
    "max_target = 4000\n",
    "\n",
    "for i in range(num_samples):\n",
    "  index.append(i)\n",
    "#print(index)\n",
    "\n",
    "X_aux = []\n",
    "y_violin_aux = []\n",
    "y_voice_aux = []\n",
    "y_mridangam_aux = []\n",
    "\n",
    "contador = 0\n",
    "\n",
    "while target != [max_target,max_target,max_target,max_target,max_target,max_target,max_target,max_target] and contador < num_samples: #we have no idea how it's getting 1000 of each, there's only 176 mridangams in the total csv (including holdout and everything).\n",
    "  sample_index = randint(0, len(index)-1)\n",
    "  contador += 1\n",
    "  if target[int(X_dummy[index[sample_index]][44])] < max_target:\n",
    "    target[int(X_dummy[index[sample_index], 44])] += 1\n",
    "\n",
    "    # print(len(index))\n",
    "\n",
    "    X_aux.append(X_dummy[index[sample_index]])\n",
    "    y_violin_aux.append(y_violin[index[sample_index]])\n",
    "    y_voice_aux.append(y_voice[index[sample_index]])\n",
    "    y_mridangam_aux.append(y_mridangam[index[sample_index]])\n",
    "    del index[sample_index]\n",
    "\n",
    "\n",
    "\n",
    "print(\"Sample Distribution: \")\n",
    "print(target)\n",
    "\n"
   ]
  },
  {
   "cell_type": "code",
   "execution_count": 13,
   "metadata": {
    "id": "aAHzOxdFe39t",
    "scrolled": false
   },
   "outputs": [],
   "source": [
    "X_aux = np.delete(X_aux, 44, 1) #Eliminar categoria al final"
   ]
  },
  {
   "cell_type": "code",
   "execution_count": 14,
   "metadata": {
    "colab": {
     "base_uri": "https://localhost:8080/"
    },
    "id": "GsrQ74iFp-dy",
    "outputId": "c1b736fa-df43-4eaa-e7b5-76ec5d095c50",
    "scrolled": true
   },
   "outputs": [
    {
     "name": "stdout",
     "output_type": "stream",
     "text": [
      "[[ 2.28048419e-03  4.50439453e-01 -1.77429199e-01 ... -2.85342712e+02\n",
      "  -2.93774353e+02 -3.02316284e+02]\n",
      " [ 6.10563764e-03  6.26403809e-01 -4.66705322e-01 ... -1.63360153e+02\n",
      "  -1.66225616e+02 -1.62368027e+02]\n",
      " [ 6.64179400e-03  5.23132324e-01 -3.05328369e-01 ... -9.86073456e+01\n",
      "  -9.33525162e+01 -1.11954544e+02]\n",
      " ...\n",
      " [ 4.97696223e-03  2.28027344e-01 -1.03912354e-01 ... -2.99482544e+02\n",
      "  -3.03449371e+02 -3.04643494e+02]\n",
      " [ 8.50995537e-04  2.16308594e-01 -1.14013672e-01 ... -2.57222382e+02\n",
      "  -2.70091736e+02 -2.59054626e+02]\n",
      " [ 6.54288940e-03  7.64465332e-01 -3.70391846e-01 ... -1.09310295e+02\n",
      "  -1.15163887e+02 -1.27690239e+02]]\n",
      "(30583,)\n"
     ]
    }
   ],
   "source": [
    "print(X_aux)\n",
    "print(np.shape(y_violin_aux))"
   ]
  },
  {
   "cell_type": "markdown",
   "metadata": {},
   "source": [
    "### Percentage of ones in each instrument model"
   ]
  },
  {
   "cell_type": "code",
   "execution_count": 15,
   "metadata": {
    "scrolled": true
   },
   "outputs": [
    {
     "name": "stdout",
     "output_type": "stream",
     "text": [
      "Percentage of ones in voice: \n",
      "0.5231664650295916\n",
      "Percentage of ones in voice at training set: \n",
      "0.6693333333333333\n"
     ]
    }
   ],
   "source": [
    "print(\"Percentage of ones in voice: \")\n",
    "print(sum(y_voice_aux)/len(y_voice_aux)) # percentage of ones for voice\n",
    "print(\"Percentage of ones in voice at training set: \")\n",
    "print(sum(y_voice_aux[:max_train_target])/len(y_voice_aux[:max_train_target]))\n",
    "#print(sum(y_voice_aux[max_train_target:])/len(y_voice_aux[max_train_target:]))"
   ]
  },
  {
   "cell_type": "code",
   "execution_count": 16,
   "metadata": {
    "scrolled": false
   },
   "outputs": [
    {
     "name": "stdout",
     "output_type": "stream",
     "text": [
      "Percentage of ones in violin at training: \n",
      "0.5231664650295916\n",
      "Percentage of ones in violin at training set: \n",
      "0.7396666666666667\n"
     ]
    }
   ],
   "source": [
    "print(\"Percentage of ones in violin at training: \")\n",
    "print(sum(y_violin_aux)/len(y_violin_aux)) # percentage of ones for violin\n",
    "print(\"Percentage of ones in violin at training set: \")\n",
    "print(sum(y_violin_aux[:max_train_target])/len(y_violin_aux[:max_train_target]))\n",
    "#print(sum(y_violin_aux[max_train_target:])/len(y_violin_aux[max_train_target:]))"
   ]
  },
  {
   "cell_type": "code",
   "execution_count": 17,
   "metadata": {
    "scrolled": true
   },
   "outputs": [
    {
     "name": "stdout",
     "output_type": "stream",
     "text": [
      "Percentage of ones in mridangam: \n",
      "0.4768335349704084\n",
      "Percentage of ones in mridangam at training set: \n",
      "0.4545\n"
     ]
    }
   ],
   "source": [
    "print(\"Percentage of ones in mridangam: \")\n",
    "print(sum(y_mridangam_aux)/len(y_mridangam_aux)) # percentage of ones for mridangam\n",
    "print(\"Percentage of ones in mridangam at training set: \")\n",
    "print(sum(y_mridangam_aux[:max_train_target])/len(y_mridangam_aux[:max_train_target]))\n",
    "#print(sum(y_mridangam_aux[max_train_target:])/len(y_mridangam_aux[max_train_target:]))"
   ]
  },
  {
   "cell_type": "markdown",
   "metadata": {},
   "source": [
    "### Find best parameters"
   ]
  },
  {
   "cell_type": "code",
   "execution_count": 18,
   "metadata": {
    "scrolled": false
   },
   "outputs": [],
   "source": [
    "X_train, X_test = X_aux[:max_train_target], X_aux[max_train_target:] #CON SELECCIÓN DE DATA (AUX)\n",
    "y_train, y_test = y_violin_aux[:max_train_target], y_violin_aux[max_train_target:] #CON SELECCIÓN DE DATA (AUX)"
   ]
  },
  {
   "cell_type": "code",
   "execution_count": null,
   "metadata": {
    "id": "q-n4NQPIY5Oh",
    "scrolled": false
   },
   "outputs": [],
   "source": [
    "gbc = GradientBoostingClassifier()\n",
    "parameters = {\n",
    "    \"n_estimators\":[5,50,],\n",
    "    \"max_depth\":[1,3,7],\n",
    "    \"learning_rate\":[0.01,0.1]\n",
    "}\n",
    "\n",
    "from sklearn.model_selection import GridSearchCV\n",
    "cv = GridSearchCV(gbc,parameters,cv=5)\n",
    "cv.fit(X_train , y_train)\n",
    "\n",
    "def display(results):\n",
    "    print(f'Best parameters are: {results.best_params_}')\n",
    "    print(\"\\n\")\n",
    "    mean_score = results.cv_results_['mean_test_score']\n",
    "    std_score = results.cv_results_['std_test_score']\n",
    "    params = results.cv_results_['params']\n",
    "    for mean,std,params in zip(mean_score,std_score,params):\n",
    "        print(f'{round(mean,3)} + or -{round(std,3)} for the {params}')"
   ]
  },
  {
   "cell_type": "code",
   "execution_count": null,
   "metadata": {
    "id": "BoALioPuZB28",
    "scrolled": true
   },
   "outputs": [],
   "source": [
    "display(cv)"
   ]
  },
  {
   "cell_type": "markdown",
   "metadata": {},
   "source": [
    "### Get Scores for the three models"
   ]
  },
  {
   "cell_type": "code",
   "execution_count": 21,
   "metadata": {
    "id": "MdZFpRnFZiL7",
    "scrolled": false
   },
   "outputs": [],
   "source": [
    "# Creating the model\n",
    "from sklearn.ensemble import HistGradientBoostingClassifier\n",
    "from sklearn.ensemble import GradientBoostingClassifier\n",
    "\n",
    "X_train, X_test = X_aux[:max_train_target], X_aux[max_train_target:] #CON SELECCIÓN DE DATA (AUX)\n",
    "y_train, y_test = y_voice_aux[:max_train_target], y_voice_aux[max_train_target:] #CON SELECCIÓN DE DATA (AUX)"
   ]
  },
  {
   "cell_type": "code",
   "execution_count": 22,
   "metadata": {
    "scrolled": false
   },
   "outputs": [
    {
     "name": "stdout",
     "output_type": "stream",
     "text": [
      "Score for voice model: \n",
      "0.42877899155141797\n"
     ]
    }
   ],
   "source": [
    "clf_voice = GradientBoostingClassifier(n_estimators=50, learning_rate=0.01, max_depth=7, random_state=0).fit(X_train, y_train)\n",
    "print(\"Score for voice model: \")\n",
    "print(clf_voice.score(X_test, y_test))"
   ]
  },
  {
   "cell_type": "code",
   "execution_count": 23,
   "metadata": {
    "scrolled": false
   },
   "outputs": [],
   "source": [
    "X_train, X_test = X_aux[:max_train_target], X_aux[max_train_target:] #CON SELECCIÓN DE DATA (AUX)\n",
    "y_train, y_test = y_violin_aux[:max_train_target], y_violin_aux[max_train_target:] #CON SELECCIÓN DE DATA (AUX)"
   ]
  },
  {
   "cell_type": "code",
   "execution_count": 24,
   "metadata": {
    "scrolled": false
   },
   "outputs": [
    {
     "name": "stdout",
     "output_type": "stream",
     "text": [
      "Score for violin model: \n",
      "0.3836301996448367\n"
     ]
    }
   ],
   "source": [
    "clf_violin = GradientBoostingClassifier(n_estimators=50, learning_rate=0.01, max_depth=7, random_state=0).fit(X_train, y_train)\n",
    "print(\"Score for violin model: \")\n",
    "print(clf_violin.score(X_test, y_test))"
   ]
  },
  {
   "cell_type": "code",
   "execution_count": 25,
   "metadata": {
    "scrolled": false
   },
   "outputs": [],
   "source": [
    "X_train, X_test = X_aux[:max_train_target], X_aux[max_train_target:] #CON SELECCIÓN DE DATA (AUX)\n",
    "y_train, y_test = y_mridangam_aux[:max_train_target], y_mridangam_aux[max_train_target:] #CON SELECCIÓN DE DATA (AUX)"
   ]
  },
  {
   "cell_type": "code",
   "execution_count": 26,
   "metadata": {
    "scrolled": false
   },
   "outputs": [
    {
     "name": "stdout",
     "output_type": "stream",
     "text": [
      "Score for mridangam model: \n",
      "0.5082602378518001\n"
     ]
    }
   ],
   "source": [
    "clf_mridangam = GradientBoostingClassifier(n_estimators=50, learning_rate=0.01, max_depth=7, random_state=0).fit(X_train, y_train)\n",
    "print(\"Score for mridangam model: \")\n",
    "print(clf_mridangam.score(X_test, y_test))"
   ]
  },
  {
   "cell_type": "markdown",
   "metadata": {},
   "source": [
    "### Summarize Predictions"
   ]
  },
  {
   "cell_type": "code",
   "execution_count": 27,
   "metadata": {
    "scrolled": true
   },
   "outputs": [
    {
     "name": "stdout",
     "output_type": "stream",
     "text": [
      "Prediction that contains voice: 1\n",
      "Prediction that contains voice: 1\n",
      "Prediction that contains voice: 1\n",
      "Prediction that contains voice: 1\n",
      "Prediction that contains voice: 1\n",
      "Prediction that contains voice: 1\n",
      "Prediction that contains voice: 1\n",
      "Prediction that contains voice: 1\n",
      "Prediction that contains voice: 1\n",
      "Prediction that contains voice: 1\n",
      "Prediction that contains voice: 1\n",
      "Prediction that contains voice: 1\n",
      "Prediction that contains voice: 1\n",
      "Prediction that contains voice: 1\n",
      "Prediction that contains voice: 1\n",
      "Prediction that contains voice: 1\n",
      "Prediction that contains voice: 1\n",
      "Prediction that contains voice: 1\n",
      "Prediction that contains voice: 1\n",
      "Prediction that contains voice: 1\n",
      "Prediction that contains voice: 1\n",
      "Prediction that contains voice: 1\n",
      "Prediction that contains voice: 1\n",
      "Prediction that contains voice: 1\n",
      "Prediction that contains voice: 1\n",
      "Prediction that contains voice: 1\n",
      "Prediction that contains voice: 1\n",
      "Prediction that contains voice: 1\n",
      "Prediction that contains voice: 1\n",
      "Prediction that contains voice: 1\n",
      "Prediction that contains voice: 1\n",
      "Prediction that contains voice: 1\n",
      "Prediction that contains voice: 1\n",
      "Prediction that contains voice: 1\n",
      "Prediction that contains voice: 1\n",
      "Prediction that contains voice: 1\n",
      "Prediction that contains voice: 1\n",
      "Prediction that contains voice: 1\n",
      "Prediction that contains voice: 1\n",
      "Prediction that contains voice: 1\n",
      "Prediction that contains voice: 1\n",
      "Prediction that contains voice: 1\n",
      "Prediction that contains voice: 1\n",
      "Prediction that contains voice: 1\n",
      "Prediction that contains voice: 1\n",
      "Prediction that contains voice: 1\n",
      "Prediction that contains voice: 1\n",
      "Prediction that contains voice: 1\n",
      "Prediction that contains voice: 1\n",
      "Prediction that contains voice: 1\n",
      "Prediction that contains voice: 1\n",
      "Prediction that contains voice: 1\n",
      "Prediction that contains voice: 1\n",
      "Prediction that contains voice: 1\n",
      "Prediction that contains voice: 1\n",
      "Prediction that contains voice: 1\n",
      "Prediction that contains voice: 1\n",
      "Prediction that contains voice: 1\n",
      "Prediction that contains voice: 1\n",
      "Prediction that contains voice: 1\n",
      "Prediction that contains voice: 1\n",
      "Prediction that contains voice: 1\n",
      "Prediction that contains voice: 1\n",
      "Prediction that contains voice: 1\n",
      "Prediction that contains voice: 1\n",
      "Prediction that contains voice: 1\n",
      "Prediction that contains voice: 1\n",
      "Prediction that contains voice: 1\n",
      "Prediction that contains voice: 1\n",
      "Prediction that contains voice: 1\n",
      "Prediction that contains voice: 1\n",
      "Prediction that contains voice: 1\n",
      "Prediction that contains voice: 1\n",
      "Prediction that contains voice: 1\n",
      "Prediction that contains voice: 1\n",
      "Prediction that contains voice: 1\n",
      "Prediction that contains voice: 1\n",
      "Prediction that contains voice: 1\n",
      "Prediction that contains voice: 1\n",
      "Prediction that contains voice: 1\n",
      "Prediction that contains voice: 1\n",
      "Prediction that contains voice: 1\n",
      "Prediction that contains voice: 1\n",
      "Prediction that contains voice: 1\n",
      "Prediction that contains voice: 1\n",
      "Prediction that contains voice: 1\n",
      "Prediction that contains voice: 1\n",
      "Prediction that contains voice: 1\n",
      "Prediction that contains voice: 1\n",
      "Prediction that contains voice: 1\n",
      "Prediction that contains voice: 1\n",
      "Prediction that contains voice: 1\n",
      "Prediction that contains voice: 1\n",
      "Prediction that contains voice: 1\n",
      "Prediction that contains voice: 1\n",
      "Prediction that contains voice: 1\n",
      "Prediction that contains voice: 1\n",
      "Prediction that contains voice: 1\n",
      "Prediction that contains voice: 1\n",
      "Prediction that contains voice: 1\n",
      "Prediction that contains voice: 1\n",
      "Prediction that contains voice: 1\n",
      "Prediction that contains voice: 1\n",
      "Prediction that contains voice: 1\n",
      "Prediction that contains voice: 1\n",
      "Prediction that contains voice: 1\n",
      "Prediction that contains voice: 1\n",
      "Prediction that contains voice: 1\n",
      "Prediction that contains voice: 1\n",
      "Prediction that contains voice: 1\n",
      "Prediction that contains voice: 1\n",
      "Prediction that contains voice: 1\n",
      "Prediction that contains voice: 1\n",
      "Prediction that contains voice: 1\n",
      "Prediction that contains voice: 1\n",
      "Prediction that contains voice: 1\n",
      "Prediction that contains voice: 1\n",
      "Prediction that contains voice: 1\n",
      "Prediction that contains voice: 1\n",
      "Prediction that contains voice: 1\n",
      "Prediction that contains voice: 1\n",
      "Prediction that contains voice: 1\n",
      "Prediction that contains voice: 1\n",
      "Prediction that contains voice: 1\n",
      "Prediction that contains voice: 1\n",
      "Prediction that contains voice: 1\n",
      "Prediction that contains voice: 1\n",
      "Prediction that contains voice: 1\n",
      "Prediction that contains voice: 1\n",
      "Prediction that contains voice: 1\n",
      "Prediction that contains voice: 1\n",
      "Prediction that contains voice: 1\n",
      "Prediction that contains voice: 1\n",
      "Prediction that contains voice: 1\n",
      "Prediction that contains voice: 1\n",
      "Prediction that contains voice: 1\n",
      "Prediction that contains voice: 1\n",
      "Prediction that contains voice: 1\n",
      "Prediction that contains voice: 1\n",
      "Prediction that contains voice: 1\n",
      "Prediction that contains voice: 1\n",
      "Prediction that contains voice: 1\n",
      "Prediction that contains voice: 1\n",
      "Prediction that contains voice: 1\n",
      "Prediction that contains voice: 1\n",
      "Prediction that contains voice: 1\n",
      "Prediction that contains voice: 1\n",
      "Prediction that contains voice: 1\n",
      "Prediction that contains voice: 1\n",
      "Prediction that contains voice: 1\n",
      "Prediction that contains voice: 1\n",
      "Prediction that contains voice: 1\n",
      "Prediction that contains voice: 1\n",
      "Prediction that contains voice: 1\n",
      "Prediction that contains voice: 1\n",
      "Prediction that contains voice: 1\n",
      "Prediction that contains voice: 1\n",
      "Prediction that contains voice: 1\n",
      "Prediction that contains voice: 1\n",
      "Prediction that contains voice: 1\n",
      "Prediction that contains voice: 1\n",
      "Prediction that contains voice: 1\n",
      "Prediction that contains voice: 1\n",
      "Prediction that contains voice: 1\n",
      "Prediction that contains voice: 1\n",
      "Prediction that contains voice: 1\n",
      "Prediction that contains voice: 1\n",
      "Prediction that contains voice: 1\n",
      "Prediction that contains voice: 1\n",
      "Prediction that contains voice: 1\n",
      "Prediction that contains voice: 1\n",
      "Prediction that contains voice: 1\n",
      "Prediction that contains voice: 1\n",
      "Prediction that contains voice: 1\n",
      "Prediction that contains voice: 1\n",
      "Prediction that contains voice: 1\n",
      "Prediction that contains voice: 1\n",
      "Prediction that contains voice: 1\n",
      "Prediction that contains voice: 1\n",
      "Prediction that contains voice: 1\n",
      "Prediction that contains voice: 1\n",
      "Prediction that contains voice: 1\n",
      "Prediction that contains voice: 1\n",
      "Prediction that contains voice: 1\n",
      "Prediction that contains voice: 1\n",
      "Prediction that contains voice: 1\n",
      "Prediction that contains voice: 1\n",
      "Prediction that contains voice: 1\n",
      "Prediction that contains voice: 1\n",
      "Prediction that contains voice: 1\n",
      "Prediction that contains voice: 1\n",
      "Prediction that contains voice: 1\n",
      "Prediction that contains voice: 1\n",
      "Prediction that contains voice: 1\n",
      "Prediction that contains voice: 1\n",
      "Prediction that contains voice: 1\n",
      "Prediction that contains voice: 1\n",
      "Prediction that contains voice: 1\n",
      "Prediction that contains voice: 1\n",
      "Prediction that contains voice: 1\n"
     ]
    }
   ],
   "source": [
    "# summarize prediction\n",
    "for i in range(200):\n",
    "    yhat = clf_voice.predict([X_test[i]])\n",
    "    #print(X_test[i])\n",
    "    print('Prediction that contains voice: %d' % yhat[0])"
   ]
  },
  {
   "cell_type": "code",
   "execution_count": 28,
   "metadata": {
    "scrolled": true
   },
   "outputs": [
    {
     "name": "stdout",
     "output_type": "stream",
     "text": [
      "Prediction that contains violin: 1\n",
      "Prediction that contains violin: 1\n",
      "Prediction that contains violin: 1\n",
      "Prediction that contains violin: 1\n",
      "Prediction that contains violin: 1\n",
      "Prediction that contains violin: 1\n",
      "Prediction that contains violin: 1\n",
      "Prediction that contains violin: 1\n",
      "Prediction that contains violin: 1\n",
      "Prediction that contains violin: 1\n",
      "Prediction that contains violin: 1\n",
      "Prediction that contains violin: 1\n",
      "Prediction that contains violin: 1\n",
      "Prediction that contains violin: 1\n",
      "Prediction that contains violin: 1\n",
      "Prediction that contains violin: 1\n",
      "Prediction that contains violin: 1\n",
      "Prediction that contains violin: 1\n",
      "Prediction that contains violin: 1\n",
      "Prediction that contains violin: 1\n",
      "Prediction that contains violin: 1\n",
      "Prediction that contains violin: 1\n",
      "Prediction that contains violin: 1\n",
      "Prediction that contains violin: 1\n",
      "Prediction that contains violin: 1\n",
      "Prediction that contains violin: 1\n",
      "Prediction that contains violin: 1\n",
      "Prediction that contains violin: 1\n",
      "Prediction that contains violin: 1\n",
      "Prediction that contains violin: 1\n",
      "Prediction that contains violin: 1\n",
      "Prediction that contains violin: 1\n",
      "Prediction that contains violin: 1\n",
      "Prediction that contains violin: 1\n",
      "Prediction that contains violin: 1\n",
      "Prediction that contains violin: 1\n",
      "Prediction that contains violin: 1\n",
      "Prediction that contains violin: 1\n",
      "Prediction that contains violin: 1\n",
      "Prediction that contains violin: 1\n",
      "Prediction that contains violin: 1\n",
      "Prediction that contains violin: 1\n",
      "Prediction that contains violin: 1\n",
      "Prediction that contains violin: 1\n",
      "Prediction that contains violin: 1\n",
      "Prediction that contains violin: 1\n",
      "Prediction that contains violin: 1\n",
      "Prediction that contains violin: 1\n",
      "Prediction that contains violin: 1\n",
      "Prediction that contains violin: 1\n",
      "Prediction that contains violin: 1\n",
      "Prediction that contains violin: 1\n",
      "Prediction that contains violin: 1\n",
      "Prediction that contains violin: 1\n",
      "Prediction that contains violin: 1\n",
      "Prediction that contains violin: 1\n",
      "Prediction that contains violin: 1\n",
      "Prediction that contains violin: 1\n",
      "Prediction that contains violin: 1\n",
      "Prediction that contains violin: 1\n",
      "Prediction that contains violin: 1\n",
      "Prediction that contains violin: 1\n",
      "Prediction that contains violin: 1\n",
      "Prediction that contains violin: 1\n",
      "Prediction that contains violin: 1\n",
      "Prediction that contains violin: 1\n",
      "Prediction that contains violin: 1\n",
      "Prediction that contains violin: 1\n",
      "Prediction that contains violin: 1\n",
      "Prediction that contains violin: 1\n",
      "Prediction that contains violin: 1\n",
      "Prediction that contains violin: 1\n",
      "Prediction that contains violin: 1\n",
      "Prediction that contains violin: 1\n",
      "Prediction that contains violin: 1\n",
      "Prediction that contains violin: 1\n",
      "Prediction that contains violin: 1\n",
      "Prediction that contains violin: 1\n",
      "Prediction that contains violin: 1\n",
      "Prediction that contains violin: 1\n",
      "Prediction that contains violin: 1\n",
      "Prediction that contains violin: 1\n",
      "Prediction that contains violin: 1\n",
      "Prediction that contains violin: 1\n",
      "Prediction that contains violin: 1\n",
      "Prediction that contains violin: 1\n",
      "Prediction that contains violin: 1\n",
      "Prediction that contains violin: 1\n",
      "Prediction that contains violin: 1\n",
      "Prediction that contains violin: 1\n",
      "Prediction that contains violin: 1\n",
      "Prediction that contains violin: 1\n",
      "Prediction that contains violin: 1\n",
      "Prediction that contains violin: 1\n",
      "Prediction that contains violin: 1\n",
      "Prediction that contains violin: 1\n",
      "Prediction that contains violin: 1\n",
      "Prediction that contains violin: 1\n",
      "Prediction that contains violin: 1\n",
      "Prediction that contains violin: 1\n",
      "Prediction that contains violin: 1\n",
      "Prediction that contains violin: 1\n",
      "Prediction that contains violin: 1\n",
      "Prediction that contains violin: 1\n",
      "Prediction that contains violin: 1\n",
      "Prediction that contains violin: 1\n",
      "Prediction that contains violin: 1\n",
      "Prediction that contains violin: 1\n",
      "Prediction that contains violin: 1\n",
      "Prediction that contains violin: 1\n",
      "Prediction that contains violin: 1\n",
      "Prediction that contains violin: 1\n",
      "Prediction that contains violin: 1\n",
      "Prediction that contains violin: 1\n",
      "Prediction that contains violin: 1\n",
      "Prediction that contains violin: 1\n",
      "Prediction that contains violin: 1\n",
      "Prediction that contains violin: 1\n",
      "Prediction that contains violin: 1\n",
      "Prediction that contains violin: 1\n",
      "Prediction that contains violin: 1\n",
      "Prediction that contains violin: 1\n",
      "Prediction that contains violin: 1\n",
      "Prediction that contains violin: 1\n",
      "Prediction that contains violin: 1\n",
      "Prediction that contains violin: 1\n",
      "Prediction that contains violin: 1\n",
      "Prediction that contains violin: 1\n",
      "Prediction that contains violin: 1\n",
      "Prediction that contains violin: 1\n",
      "Prediction that contains violin: 1\n",
      "Prediction that contains violin: 1\n",
      "Prediction that contains violin: 1\n",
      "Prediction that contains violin: 1\n",
      "Prediction that contains violin: 1\n",
      "Prediction that contains violin: 1\n",
      "Prediction that contains violin: 1\n",
      "Prediction that contains violin: 1\n",
      "Prediction that contains violin: 1\n",
      "Prediction that contains violin: 1\n",
      "Prediction that contains violin: 1\n",
      "Prediction that contains violin: 1\n",
      "Prediction that contains violin: 1\n",
      "Prediction that contains violin: 1\n",
      "Prediction that contains violin: 1\n",
      "Prediction that contains violin: 1\n",
      "Prediction that contains violin: 1\n",
      "Prediction that contains violin: 1\n",
      "Prediction that contains violin: 1\n",
      "Prediction that contains violin: 1\n",
      "Prediction that contains violin: 1\n",
      "Prediction that contains violin: 1\n",
      "Prediction that contains violin: 1\n",
      "Prediction that contains violin: 1\n",
      "Prediction that contains violin: 1\n",
      "Prediction that contains violin: 1\n",
      "Prediction that contains violin: 1\n",
      "Prediction that contains violin: 1\n",
      "Prediction that contains violin: 1\n",
      "Prediction that contains violin: 1\n",
      "Prediction that contains violin: 1\n",
      "Prediction that contains violin: 1\n",
      "Prediction that contains violin: 1\n",
      "Prediction that contains violin: 1\n",
      "Prediction that contains violin: 1\n",
      "Prediction that contains violin: 1\n",
      "Prediction that contains violin: 1\n",
      "Prediction that contains violin: 1\n",
      "Prediction that contains violin: 1\n",
      "Prediction that contains violin: 1\n",
      "Prediction that contains violin: 1\n",
      "Prediction that contains violin: 1\n",
      "Prediction that contains violin: 1\n",
      "Prediction that contains violin: 1\n",
      "Prediction that contains violin: 1\n",
      "Prediction that contains violin: 1\n",
      "Prediction that contains violin: 1\n",
      "Prediction that contains violin: 1\n",
      "Prediction that contains violin: 1\n",
      "Prediction that contains violin: 1\n",
      "Prediction that contains violin: 1\n",
      "Prediction that contains violin: 1\n",
      "Prediction that contains violin: 1\n",
      "Prediction that contains violin: 1\n",
      "Prediction that contains violin: 1\n",
      "Prediction that contains violin: 1\n",
      "Prediction that contains violin: 1\n",
      "Prediction that contains violin: 1\n",
      "Prediction that contains violin: 1\n",
      "Prediction that contains violin: 1\n",
      "Prediction that contains violin: 1\n",
      "Prediction that contains violin: 1\n",
      "Prediction that contains violin: 1\n",
      "Prediction that contains violin: 1\n",
      "Prediction that contains violin: 1\n",
      "Prediction that contains violin: 1\n",
      "Prediction that contains violin: 1\n",
      "Prediction that contains violin: 1\n",
      "Prediction that contains violin: 1\n",
      "Prediction that contains violin: 1\n"
     ]
    }
   ],
   "source": [
    "# summarize prediction\n",
    "for i in range(200):\n",
    "    yhat = clf_violin.predict([X_test[i]])\n",
    "    #print(X_test[i])\n",
    "    print('Prediction that contains violin: %d' % yhat[0])"
   ]
  },
  {
   "cell_type": "code",
   "execution_count": 29,
   "metadata": {
    "scrolled": true
   },
   "outputs": [
    {
     "name": "stdout",
     "output_type": "stream",
     "text": [
      "Prediction that contains mridangam: 0\n",
      "Prediction that contains mridangam: 0\n",
      "Prediction that contains mridangam: 0\n",
      "Prediction that contains mridangam: 0\n",
      "Prediction that contains mridangam: 0\n",
      "Prediction that contains mridangam: 0\n",
      "Prediction that contains mridangam: 0\n",
      "Prediction that contains mridangam: 0\n",
      "Prediction that contains mridangam: 0\n",
      "Prediction that contains mridangam: 0\n",
      "Prediction that contains mridangam: 0\n",
      "Prediction that contains mridangam: 0\n",
      "Prediction that contains mridangam: 0\n",
      "Prediction that contains mridangam: 0\n",
      "Prediction that contains mridangam: 0\n",
      "Prediction that contains mridangam: 0\n",
      "Prediction that contains mridangam: 0\n",
      "Prediction that contains mridangam: 0\n",
      "Prediction that contains mridangam: 0\n",
      "Prediction that contains mridangam: 0\n",
      "Prediction that contains mridangam: 0\n",
      "Prediction that contains mridangam: 0\n",
      "Prediction that contains mridangam: 0\n",
      "Prediction that contains mridangam: 0\n",
      "Prediction that contains mridangam: 0\n",
      "Prediction that contains mridangam: 0\n",
      "Prediction that contains mridangam: 0\n",
      "Prediction that contains mridangam: 0\n",
      "Prediction that contains mridangam: 0\n",
      "Prediction that contains mridangam: 0\n",
      "Prediction that contains mridangam: 0\n",
      "Prediction that contains mridangam: 0\n",
      "Prediction that contains mridangam: 0\n",
      "Prediction that contains mridangam: 0\n",
      "Prediction that contains mridangam: 0\n",
      "Prediction that contains mridangam: 0\n",
      "Prediction that contains mridangam: 0\n",
      "Prediction that contains mridangam: 0\n",
      "Prediction that contains mridangam: 0\n",
      "Prediction that contains mridangam: 0\n",
      "Prediction that contains mridangam: 0\n",
      "Prediction that contains mridangam: 0\n",
      "Prediction that contains mridangam: 0\n",
      "Prediction that contains mridangam: 0\n",
      "Prediction that contains mridangam: 0\n",
      "Prediction that contains mridangam: 0\n",
      "Prediction that contains mridangam: 0\n",
      "Prediction that contains mridangam: 0\n",
      "Prediction that contains mridangam: 1\n",
      "Prediction that contains mridangam: 0\n",
      "Prediction that contains mridangam: 0\n",
      "Prediction that contains mridangam: 0\n",
      "Prediction that contains mridangam: 0\n",
      "Prediction that contains mridangam: 0\n",
      "Prediction that contains mridangam: 0\n",
      "Prediction that contains mridangam: 0\n",
      "Prediction that contains mridangam: 0\n",
      "Prediction that contains mridangam: 0\n",
      "Prediction that contains mridangam: 0\n",
      "Prediction that contains mridangam: 0\n",
      "Prediction that contains mridangam: 0\n",
      "Prediction that contains mridangam: 0\n",
      "Prediction that contains mridangam: 0\n",
      "Prediction that contains mridangam: 0\n",
      "Prediction that contains mridangam: 0\n",
      "Prediction that contains mridangam: 0\n",
      "Prediction that contains mridangam: 0\n",
      "Prediction that contains mridangam: 0\n",
      "Prediction that contains mridangam: 0\n",
      "Prediction that contains mridangam: 0\n",
      "Prediction that contains mridangam: 0\n",
      "Prediction that contains mridangam: 1\n",
      "Prediction that contains mridangam: 0\n",
      "Prediction that contains mridangam: 0\n",
      "Prediction that contains mridangam: 0\n",
      "Prediction that contains mridangam: 0\n",
      "Prediction that contains mridangam: 0\n",
      "Prediction that contains mridangam: 0\n",
      "Prediction that contains mridangam: 0\n",
      "Prediction that contains mridangam: 0\n",
      "Prediction that contains mridangam: 0\n",
      "Prediction that contains mridangam: 0\n",
      "Prediction that contains mridangam: 0\n",
      "Prediction that contains mridangam: 0\n",
      "Prediction that contains mridangam: 0\n",
      "Prediction that contains mridangam: 0\n",
      "Prediction that contains mridangam: 0\n",
      "Prediction that contains mridangam: 0\n",
      "Prediction that contains mridangam: 0\n",
      "Prediction that contains mridangam: 0\n",
      "Prediction that contains mridangam: 0\n",
      "Prediction that contains mridangam: 0\n",
      "Prediction that contains mridangam: 1\n",
      "Prediction that contains mridangam: 0\n",
      "Prediction that contains mridangam: 0\n",
      "Prediction that contains mridangam: 0\n",
      "Prediction that contains mridangam: 0\n",
      "Prediction that contains mridangam: 0\n",
      "Prediction that contains mridangam: 0\n",
      "Prediction that contains mridangam: 0\n"
     ]
    }
   ],
   "source": [
    "# summarize prediction\n",
    "for i in range(100):\n",
    "    yhat = clf_mridangam.predict([X_test[i]])\n",
    "    #print(X_test[i])\n",
    "    print('Prediction that contains mridangam: %d' % yhat[0])"
   ]
  },
  {
   "cell_type": "markdown",
   "metadata": {
    "scrolled": false
   },
   "source": [
    "### Locate Instruments in a track with trained models"
   ]
  },
  {
   "cell_type": "code",
   "execution_count": 47,
   "metadata": {
    "scrolled": true
   },
   "outputs": [
    {
     "data": {
      "text/plain": [
       "array([[ 3.62730771e-03,  3.76098633e-01, -2.03155518e-01, ...,\n",
       "        -2.27162155e+02, -2.27200134e+02, -2.34010666e+02],\n",
       "       [ 2.50996579e-03,  1.58538818e-01, -5.29785156e-02, ...,\n",
       "        -3.12359314e+02, -3.21419159e+02, -3.18066101e+02],\n",
       "       [ 6.75267773e-03,  4.57122803e-01, -5.60607910e-02, ...,\n",
       "        -3.00352356e+02, -3.04876434e+02, -3.09806152e+02],\n",
       "       ...,\n",
       "       [ 2.02402985e-03,  2.38128662e-01, -1.69067383e-02, ...,\n",
       "        -2.85286713e+02, -2.85743347e+02, -2.91295929e+02],\n",
       "       [ 4.98696347e-04,  1.71447754e-01, -8.16650391e-02, ...,\n",
       "        -3.24490204e+02, -3.26061432e+02, -3.27536469e+02],\n",
       "       [ 5.77097805e-03,  3.71276855e-01, -1.03302002e-01, ...,\n",
       "        -1.81194214e+02, -1.79863724e+02, -1.84329361e+02]])"
      ]
     },
     "execution_count": 47,
     "metadata": {},
     "output_type": "execute_result"
    }
   ],
   "source": [
    "song = features[6000:8000]\n",
    "updated_song = song.drop(columns = ['Unnamed: 0'])\n",
    "updated_song = updated_song.to_numpy()\n",
    "updated_song = np.delete(updated_song, 44, 1) #Eliminar categoria al final\n",
    "updated_song"
   ]
  },
  {
   "cell_type": "code",
   "execution_count": 48,
   "metadata": {},
   "outputs": [],
   "source": [
    "song_length = len(updated_song)"
   ]
  },
  {
   "cell_type": "code",
   "execution_count": 49,
   "metadata": {},
   "outputs": [],
   "source": [
    "# Create empty arrays\n",
    "yhat_vo = np.zeros(song_length)\n",
    "yhat_vi = np.zeros(song_length)\n",
    "yhat_mr = np.zeros(song_length)\n",
    "\n",
    "# Sample arrays (replace with your own data)\n",
    "for i in range(song_length):\n",
    "    yhat_vo[i] = clf_voice.predict([updated_song[i]])\n",
    "    yhat_vi[i] = clf_violin.predict([updated_song[i]])\n",
    "    yhat_mr[i] = clf_mridangam.predict([updated_song[i]])"
   ]
  },
  {
   "cell_type": "code",
   "execution_count": 50,
   "metadata": {
    "scrolled": false
   },
   "outputs": [
    {
     "data": {
      "image/png": "[encoded data removed]",
      "text/plain": [
       "<Figure size 640x480 with 1 Axes>"
      ]
     },
     "metadata": {},
     "output_type": "display_data"
    }
   ],
   "source": [
    "import numpy as np\n",
    "import matplotlib.pyplot as plt\n",
    "\n",
    "# Generate x-axis values\n",
    "x = range(len(yhat_vo))\n",
    "\n",
    "# Plot the arrays\n",
    "plt.plot(x, yhat_vo, color='red', label='Contains Voice')\n",
    "plt.plot(x, yhat_vi, color='green', label='Contains Violin')\n",
    "plt.plot(x, yhat_mr, color='blue', label='Contains Mridangam')\n",
    "\n",
    "# Set plot labels and title\n",
    "plt.xlabel('Track')\n",
    "plt.ylabel('Playing Yes: 1 No: 0')\n",
    "plt.title('Instruments played')\n",
    "\n",
    "# Show legend\n",
    "plt.legend()\n",
    "\n",
    "# Display the plot\n",
    "plt.show()"
   ]
  }
 ],
 "metadata": {
  "colab": {
   "provenance": []
  },
  "kernelspec": {
   "display_name": "Python 3",
   "language": "python",
   "name": "python3"
  },
  "language_info": {
   "codemirror_mode": {
    "name": "ipython",
    "version": 3
   },
   "file_extension": ".py",
   "mimetype": "text/x-python",
   "name": "python",
   "nbconvert_exporter": "python",
   "pygments_lexer": "ipython3",
   "version": "3.8.8"
  }
 },
 "nbformat": 4,
 "nbformat_minor": 1
}
