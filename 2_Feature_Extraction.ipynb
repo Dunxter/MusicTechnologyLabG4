{
  "cells": [
    {
      "cell_type": "markdown",
      "id": "premier-merchandise",
      "metadata": {
        "id": "premier-merchandise"
      },
      "source": [
        "# 2. Feature Extraction"
      ]
    },
    {
      "cell_type": "markdown",
      "id": "pretty-award",
      "metadata": {
        "id": "pretty-award"
      },
      "source": [
        "In this notebook we will extract various audio features for a sample of audio. We will focus on the time domain features of:\n",
        "\n",
        "- Amplitude Envelope \n",
        "- Root-Mean-Squared Energy\n",
        "- Zero Crossing Rate\n",
        "\n",
        "And the frequency domain features of:\n",
        "\n",
        "- Band Energy Ratio\n",
        "- Spectral Centroid\n",
        "- Bandwidth\n",
        "- Mel Frequency Cepstral Coefficients\n",
        "\n",
        "Before beginning this notebook, you should have already create a dataset of audio samples from the Saraga Carnatic Dataset. If not, please review notebook **1. Dataset Creation**."
      ]
    },
    {
      "cell_type": "markdown",
      "id": "terminal-leonard",
      "metadata": {
        "id": "terminal-leonard"
      },
      "source": [
        "## 2.1 Load Samples"
      ]
    },
    {
      "cell_type": "markdown",
      "id": "amazing-fraction",
      "metadata": {
        "id": "amazing-fraction"
      },
      "source": [
        "As part of **1. Dataset Creations** you should have created some loaders to load audio samples and associated metadata. Import these loaders and load one sample to experiment with."
      ]
    },
    {
      "cell_type": "code",
      "source": [
        "import os\n",
        "import pandas as pd\n",
        "import librosa\n",
        "import numpy as np\n",
        "import scipy\n",
        "\n",
        "\n",
        "def load_sample(index):\n",
        "    \"\"\"\n",
        "    Load sample with index, <index>\n",
        "    \"\"\"\n",
        "    # Load the audio file using the index\n",
        "    audio_path = f'audio_chunk_{index}.wav'\n",
        "    audio, sr = librosa.load(audio_path, sr=None)\n",
        "    return audio, sr\n",
        "\n",
        "\n",
        "def get_metadata(index):\n",
        "    \"\"\"\n",
        "    Get metadata for sample with index, <index>\n",
        "    \"\"\"\n",
        "    # Load the metadata CSV file\n",
        "    metadata = pd.read_csv('metadata.csv')\n",
        "    \n",
        "    # Get the metadata for the specified index\n",
        "    sample_metadata = metadata.loc[metadata['index'] == index].squeeze()\n",
        "    return sample_metadata"
      ],
      "metadata": {
        "id": "xDJ5wRyKtW_t"
      },
      "id": "xDJ5wRyKtW_t",
      "execution_count": null,
      "outputs": []
    },
    {
      "cell_type": "code",
      "execution_count": null,
      "id": "neural-reaction",
      "metadata": {
        "id": "neural-reaction"
      },
      "outputs": [],
      "source": [
        "# import dataset loaders\n"
      ]
    },
    {
      "cell_type": "code",
      "execution_count": null,
      "id": "nearby-beach",
      "metadata": {
        "id": "nearby-beach"
      },
      "outputs": [],
      "source": [
        "# load one individual sample\n"
      ]
    },
    {
      "cell_type": "markdown",
      "id": "therapeutic-delhi",
      "metadata": {
        "id": "therapeutic-delhi"
      },
      "source": [
        "Are you able to listen to this audio and plot the waveform using `plot_waveform()` function from **1. Dataset Creation**?"
      ]
    },
    {
      "cell_type": "code",
      "execution_count": null,
      "id": "rough-morning",
      "metadata": {
        "id": "rough-morning"
      },
      "outputs": [],
      "source": [
        "# Listen to audio\n"
      ]
    },
    {
      "cell_type": "code",
      "execution_count": null,
      "id": "traditional-estonia",
      "metadata": {
        "id": "traditional-estonia"
      },
      "outputs": [],
      "source": [
        "# plot waveform\n"
      ]
    },
    {
      "cell_type": "markdown",
      "id": "cardiovascular-drunk",
      "metadata": {
        "id": "cardiovascular-drunk"
      },
      "source": [
        "## 2.1 Time Domain Features"
      ]
    },
    {
      "cell_type": "markdown",
      "id": "strong-central",
      "metadata": {
        "id": "strong-central"
      },
      "source": [
        "Here we will extract the time domain features of:\n",
        "\n",
        "- Amplitude Envelope \n",
        "- Root-Mean-Squared Energy\n",
        "- Zero Crossing Rate\n",
        "\n",
        "We will work with the *time domain* representation of your audio (i.e. the amplitude values loaded by your loader)."
      ]
    },
    {
      "cell_type": "markdown",
      "id": "disabled-malaysia",
      "metadata": {
        "id": "disabled-malaysia"
      },
      "source": [
        "### 2.1.1 Amplitude Envelope"
      ]
    },
    {
      "cell_type": "markdown",
      "id": "hybrid-faculty",
      "metadata": {
        "id": "hybrid-faculty"
      },
      "source": [
        "The amplitude is computed by splitting the  audio into frames and taking the maximum amplitude value for each frame..."
      ]
    },
    {
      "cell_type": "markdown",
      "id": "stuffed-cornwall",
      "metadata": {
        "id": "stuffed-cornwall"
      },
      "source": [
        "![title](images/amplitude_envelope.png)"
      ]
    },
    {
      "cell_type": "markdown",
      "id": "divine-auditor",
      "metadata": {
        "id": "divine-auditor"
      },
      "source": [
        "Try and split your audio into frames of length `w`. \n",
        "\n",
        "**Hint**: `numpy` indexing you to take windows of size `w` from an array using `np.array_split(array, w)`."
      ]
    },
    {
      "cell_type": "code",
      "execution_count": null,
      "id": "synthetic-executive",
      "metadata": {
        "id": "synthetic-executive"
      },
      "outputs": [],
      "source": [
        "# Split audio array\n",
        "\n",
        "w = 44100 * 5\n",
        "split_chunks = np.array_split(array,w)"
      ]
    },
    {
      "cell_type": "markdown",
      "id": "governing-sunglasses",
      "metadata": {
        "id": "governing-sunglasses"
      },
      "source": [
        "Take the maximum value for each window using `np.max()`.\n",
        "\n",
        "**Hint** A list comprehension may be useful here: `[<f(x)> for x in <iterable>]` where `<iterable>` is some iterable object and `<f(x)>` is some functon to apply to each  element of that iterable."
      ]
    },
    {
      "cell_type": "code",
      "execution_count": null,
      "id": "statewide-period",
      "metadata": {
        "id": "statewide-period"
      },
      "outputs": [],
      "source": [
        "# Get amplitude envelope by taking the max of the values of the split array\n",
        "def max_value(inputlist):\n",
        "    return max([sublist[-1] for sublist in inputlist])\n",
        "\n",
        "max_values = max_value(split_chunks)"
      ]
    },
    {
      "cell_type": "markdown",
      "id": "advance-unemployment",
      "metadata": {
        "id": "advance-unemployment"
      },
      "source": [
        "Can you plot this envelope using `matplotlib.pyplot`. How does it compare with the original signal?"
      ]
    },
    {
      "cell_type": "markdown",
      "id": "fiscal-chicken",
      "metadata": {
        "id": "fiscal-chicken"
      },
      "source": [
        "### 2.1.2 Root Mean Square Energy"
      ]
    },
    {
      "cell_type": "markdown",
      "id": "buried-winter",
      "metadata": {
        "id": "buried-winter"
      },
      "source": [
        "The RMS energy is computed using"
      ]
    },
    {
      "cell_type": "markdown",
      "source": [],
      "metadata": {
        "id": "Sb3MxM_F0mQ6"
      },
      "id": "Sb3MxM_F0mQ6"
    },
    {
      "cell_type": "markdown",
      "id": "superior-prototype",
      "metadata": {
        "id": "superior-prototype"
      },
      "source": [
        "![title](images/rms_energy.png)"
      ]
    },
    {
      "cell_type": "markdown",
      "id": "successful-recycling",
      "metadata": {
        "id": "successful-recycling"
      },
      "source": [
        "The `librosa` libray has an implementation at `librosa.feature.rms`"
      ]
    },
    {
      "cell_type": "code",
      "execution_count": null,
      "id": "turned-treasurer",
      "metadata": {
        "id": "turned-treasurer"
      },
      "outputs": [],
      "source": [
        "# import librosa rms\n",
        "import feature.rms from librosa as rms"
      ]
    },
    {
      "cell_type": "code",
      "execution_count": null,
      "id": "billion-independence",
      "metadata": {
        "id": "billion-independence"
      },
      "outputs": [],
      "source": [
        "# extact rms value\n"
      ]
    },
    {
      "cell_type": "markdown",
      "id": "religious-angola",
      "metadata": {
        "id": "religious-angola"
      },
      "source": [
        "### 2.1.3 Zero Crossing Rate"
      ]
    },
    {
      "cell_type": "markdown",
      "id": "composed-stadium",
      "metadata": {
        "id": "composed-stadium"
      },
      "source": [
        "The zero crossing rate is the number of times the signal crosses the x axis"
      ]
    },
    {
      "cell_type": "markdown",
      "id": "civil-iceland",
      "metadata": {
        "id": "civil-iceland"
      },
      "source": [
        "![title](images/zero_crossing_graph.png)"
      ]
    },
    {
      "cell_type": "markdown",
      "id": "studied-cargo",
      "metadata": {
        "id": "studied-cargo"
      },
      "source": [
        "It is computed with the following equation"
      ]
    },
    {
      "cell_type": "markdown",
      "id": "christian-nomination",
      "metadata": {
        "id": "christian-nomination"
      },
      "source": [
        "![title](images/zero_crossing_eq.png)"
      ]
    },
    {
      "cell_type": "markdown",
      "id": "signal-tokyo",
      "metadata": {
        "id": "signal-tokyo"
      },
      "source": [
        "The `librosa` library provides an implementaton at `librosa.feature.zero_crossing_rate`"
      ]
    },
    {
      "cell_type": "code",
      "execution_count": null,
      "id": "embedded-screening",
      "metadata": {
        "id": "embedded-screening"
      },
      "outputs": [],
      "source": [
        "# import librosa zero_crossing_rate"
      ]
    },
    {
      "cell_type": "code",
      "execution_count": null,
      "id": "distinguished-sixth",
      "metadata": {
        "id": "distinguished-sixth"
      },
      "outputs": [],
      "source": [
        "# compute ZCR"
      ]
    },
    {
      "cell_type": "markdown",
      "id": "comic-pulse",
      "metadata": {
        "id": "comic-pulse"
      },
      "source": [
        "## 2.2 Frequency Domain Features"
      ]
    },
    {
      "cell_type": "markdown",
      "id": "quick-shirt",
      "metadata": {
        "id": "quick-shirt"
      },
      "source": [
        "Here we will extract the frequency domain features of:\n",
        "\n",
        "- Band Energy Ratio\n",
        "- Spectral Centroid\n",
        "- Bandwidth\n",
        "- Mel Frequency Cepstral Coefficients\n",
        "\n",
        "We will work with the **frequency domain** representation of your audio (i.e. the frequency magnitude extracted from the fourier transform of your time domain signal).\n",
        "\n",
        "Almost all implementations of these feature extractors will compute the frequency domain spectrum for you."
      ]
    },
    {
      "cell_type": "markdown",
      "id": "adequate-argentina",
      "metadata": {
        "id": "adequate-argentina"
      },
      "source": [
        "### 2.2.1 Band Energy Ratio"
      ]
    },
    {
      "cell_type": "markdown",
      "id": "alert-doctrine",
      "metadata": {
        "id": "alert-doctrine"
      },
      "source": [
        "Band energy ratio is the ratio of energy between lower and higher frequency bands divided by some threshold, `F`."
      ]
    },
    {
      "cell_type": "markdown",
      "id": "rotary-march",
      "metadata": {
        "id": "rotary-march"
      },
      "source": [
        "![title](images/bre_spec.png)"
      ]
    },
    {
      "cell_type": "markdown",
      "id": "responsible-tattoo",
      "metadata": {
        "id": "responsible-tattoo"
      },
      "source": [
        "![title](images/bre_eq.png)"
      ]
    },
    {
      "cell_type": "markdown",
      "id": "minus-hebrew",
      "metadata": {
        "id": "minus-hebrew"
      },
      "source": [
        "The `essentia` library provides an implementation for computing the BER at `essentia.standard.EnergyBandRatio`. Import it and extract for your signal."
      ]
    },
    {
      "cell_type": "code",
      "execution_count": null,
      "id": "vulnerable-fisher",
      "metadata": {
        "id": "vulnerable-fisher"
      },
      "outputs": [],
      "source": [
        "# import essentia"
      ]
    },
    {
      "cell_type": "code",
      "execution_count": null,
      "id": "final-library",
      "metadata": {
        "id": "final-library"
      },
      "outputs": [],
      "source": [
        "# compute BER"
      ]
    },
    {
      "cell_type": "markdown",
      "id": "exact-circle",
      "metadata": {
        "id": "exact-circle"
      },
      "source": [
        "### 2.2.2 Spectral Centroid"
      ]
    },
    {
      "cell_type": "markdown",
      "id": "disabled-pottery",
      "metadata": {
        "id": "disabled-pottery"
      },
      "source": [
        "The spectral centroid is a weighted mean of energy across all frequency bands. It is computed as:"
      ]
    },
    {
      "cell_type": "markdown",
      "id": "rubber-tracy",
      "metadata": {
        "id": "rubber-tracy"
      },
      "source": [
        "![title](images/spec_cent.png)"
      ]
    },
    {
      "cell_type": "markdown",
      "id": "detected-europe",
      "metadata": {
        "id": "detected-europe"
      },
      "source": [
        "The `librosa` libary provides an implementation at `librosa.feature.spectral_centroid`."
      ]
    },
    {
      "cell_type": "code",
      "execution_count": null,
      "id": "vietnamese-picture",
      "metadata": {
        "id": "vietnamese-picture"
      },
      "outputs": [],
      "source": [
        "# import librosa implementation"
      ]
    },
    {
      "cell_type": "code",
      "execution_count": null,
      "id": "essential-woman",
      "metadata": {
        "id": "essential-woman"
      },
      "outputs": [],
      "source": [
        "# compute centroid for your signal"
      ]
    },
    {
      "cell_type": "markdown",
      "id": "equivalent-ridge",
      "metadata": {
        "id": "equivalent-ridge"
      },
      "source": [
        "### 2.2.3 Bandwidth"
      ]
    },
    {
      "cell_type": "markdown",
      "id": "forced-inquiry",
      "metadata": {
        "id": "forced-inquiry"
      },
      "source": [
        "The bandwidth captures the variance around spectral centroid."
      ]
    },
    {
      "cell_type": "markdown",
      "id": "expired-stamp",
      "metadata": {
        "id": "expired-stamp"
      },
      "source": [
        "![title](images/bandwidth.png)"
      ]
    },
    {
      "cell_type": "markdown",
      "id": "virtual-horizontal",
      "metadata": {
        "id": "virtual-horizontal"
      },
      "source": [
        "The `librosa` libary provides an implementation at `librosa.feature.spectral_bandwidth`."
      ]
    },
    {
      "cell_type": "code",
      "execution_count": null,
      "id": "pressed-juvenile",
      "metadata": {
        "id": "pressed-juvenile"
      },
      "outputs": [],
      "source": [
        "# import librosa implementation"
      ]
    },
    {
      "cell_type": "code",
      "execution_count": null,
      "id": "biblical-startup",
      "metadata": {
        "id": "biblical-startup"
      },
      "outputs": [],
      "source": [
        "# compute bandwidth for your signal"
      ]
    },
    {
      "cell_type": "markdown",
      "id": "authentic-senior",
      "metadata": {
        "id": "authentic-senior"
      },
      "source": [
        "### 2.2.4 Mel Frequency Cepstral Coefficients"
      ]
    },
    {
      "cell_type": "markdown",
      "id": "inclusive-present",
      "metadata": {
        "id": "inclusive-present"
      },
      "source": [
        "MFCC maps frequency magnitudes to the more perceptually relevant Mel frequencies. The mapping between frequency and Mel frequency is as follows."
      ]
    },
    {
      "cell_type": "markdown",
      "id": "incredible-former",
      "metadata": {
        "id": "incredible-former"
      },
      "source": [
        "![title](images/mel_freq.png)"
      ]
    },
    {
      "cell_type": "markdown",
      "id": "suited-faculty",
      "metadata": {
        "id": "suited-faculty"
      },
      "source": [
        "This mapping is not a simple conversion. More information on exactly how this is achieved can be found [here](https://www.youtube.com/watch?v=9GHCiiDLHQ4)"
      ]
    },
    {
      "cell_type": "markdown",
      "id": "future-fusion",
      "metadata": {
        "id": "future-fusion"
      },
      "source": [
        "The `librosa` libary provides an implementation at `librosa.feature.mfcc`."
      ]
    },
    {
      "cell_type": "code",
      "execution_count": null,
      "id": "national-monitor",
      "metadata": {
        "id": "national-monitor"
      },
      "outputs": [],
      "source": [
        "# import librosa implementation"
      ]
    },
    {
      "cell_type": "code",
      "execution_count": null,
      "id": "challenging-mailman",
      "metadata": {
        "id": "challenging-mailman"
      },
      "outputs": [],
      "source": [
        "# compute MFCC coefficients for your signal"
      ]
    },
    {
      "cell_type": "markdown",
      "id": "czech-apple",
      "metadata": {
        "id": "czech-apple"
      },
      "source": [
        "## 2.3 Extracting features across the dataset"
      ]
    },
    {
      "cell_type": "markdown",
      "id": "settled-majority",
      "metadata": {
        "id": "settled-majority"
      },
      "source": [
        "Now that you are able to extract features for one individual sample. Let's extract this to the entire dataset. The metadata file that you created in the **1. Dataset Creation** notebook should include all indices and filepaths of each sample.\n",
        "\n",
        "**Hint**: The `pandas` library loads a csv to a pandas dataframe with `pandas.read_csv`"
      ]
    },
    {
      "cell_type": "code",
      "execution_count": null,
      "id": "nuclear-objective",
      "metadata": {
        "id": "nuclear-objective"
      },
      "outputs": [],
      "source": [
        "# Load metadata"
      ]
    },
    {
      "cell_type": "markdown",
      "id": "czech-league",
      "metadata": {
        "id": "czech-league"
      },
      "source": [
        "Iterate through the rows in this metadata file, extracting filepath and index. For each filepath, load the audio sample and apply the feature extractors defined above. Make sure to store these features in a dataframe with columns=`index`,`feature_name`.\n",
        "\n",
        "**Hint**: `.iterrows()` allows dataframe row iteration on pandas dataframe\n",
        "\n",
        "**Hint**: `pandas.DataFrame` initialises a new dataframe\n",
        "\n",
        "**Hint**: `df.append` appends new rows to a pandas dataframe"
      ]
    },
    {
      "cell_type": "code",
      "execution_count": null,
      "id": "efficient-reservoir",
      "metadata": {
        "id": "efficient-reservoir"
      },
      "outputs": [],
      "source": [
        "# iterate through df\n",
        "# extract features\n",
        "# store in new features dataframe"
      ]
    },
    {
      "cell_type": "markdown",
      "id": "congressional-tracy",
      "metadata": {
        "id": "congressional-tracy"
      },
      "source": [
        "Store this features dataframe alongside the original dataset\n",
        "\n",
        "**Hint**: `df.to_csv` writes a dataframe to csv file"
      ]
    },
    {
      "cell_type": "code",
      "execution_count": null,
      "id": "needed-worst",
      "metadata": {
        "id": "needed-worst"
      },
      "outputs": [],
      "source": [
        "# write dataframe"
      ]
    }
  ],
  "metadata": {
    "kernelspec": {
      "display_name": "Python 3 (ipykernel)",
      "language": "python",
      "name": "python3"
    },
    "language_info": {
      "codemirror_mode": {
        "name": "ipython",
        "version": 3
      },
      "file_extension": ".py",
      "mimetype": "text/x-python",
      "name": "python",
      "nbconvert_exporter": "python",
      "pygments_lexer": "ipython3",
      "version": "3.7.9"
    },
    "colab": {
      "provenance": []
    }
  },
  "nbformat": 4,
  "nbformat_minor": 5
}